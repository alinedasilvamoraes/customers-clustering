{
 "cells": [
  {
   "cell_type": "markdown",
   "id": "6e150b38",
   "metadata": {},
   "source": [
    "# PA005: High Value Customer Identification (Insiders)"
   ]
  },
  {
   "cell_type": "markdown",
   "id": "970c72fb",
   "metadata": {},
   "source": [
    "## 0.0 Planejamento da solução (IOT)"
   ]
  },
  {
   "cell_type": "markdown",
   "id": "e8bec787",
   "metadata": {},
   "source": [
    "### Input - Entrada"
   ]
  },
  {
   "cell_type": "markdown",
   "id": "82a33fc2",
   "metadata": {},
   "source": [
    "1. Problema de negócio\n",
    "    - Selecionar os clientes mais valiosos para integrar um programa de fidelidade \n",
    "2. Conjunto de dados\n",
    "    - Venda de um ecommerce online, durante período de um ano"
   ]
  },
  {
   "cell_type": "markdown",
   "id": "512fabb8",
   "metadata": {},
   "source": [
    "### Output - Saída"
   ]
  },
  {
   "cell_type": "markdown",
   "id": "5b44bb92",
   "metadata": {},
   "source": [
    "1. Indicação das pessoas que farão parte do programa Insiders\n",
    "    - Lista:    client id | is_insider |\n",
    "            4967        yes\n",
    "            5488        no\n",
    "2. Relatório com as respostas das perguntas de negócio\n",
    "    - Quantos clientes farão parte do grupo?\n",
    "    - Quais as principais características desses clientes?\n",
    "    - Qual a porcentagem de contribuição do faturamento que vem do Insiders?\n",
    "    - Qual a expectativa de faturamento desse grupo para os próximos meses?\n",
    "    - Quais as condições para uma pessoa ser elegível ao Insiders?\n",
    "    - Quais as condições para uma pessoa ser removida do Insiders?\n",
    "    - Qual a garantia que o programa Insiders é melhor que o restante da base?\n",
    "    - Quais ações o time de marketing pode fazer para aumentar o faturamento?"
   ]
  },
  {
   "cell_type": "markdown",
   "id": "6dc4a310",
   "metadata": {},
   "source": [
    "### Tasks - Tarefas"
   ]
  },
  {
   "cell_type": "markdown",
   "id": "f83f68d0",
   "metadata": {},
   "source": [
    "   1. Quem são as pessoas elegíveis para participar do programa Insiders?\n",
    "       - O que são clientes mais valiosos para a empresa?\n",
    "       - Faturamento\n",
    "           - Alto ticket médio\n",
    "           - Alto LTV (a soma de tudo que a pessoa gastou)\n",
    "           - Baixa recência\n",
    "           - Alto basket size\n",
    "           - Baixa probabilidade de churn\n",
    "           - Alta previsão de LTV\n",
    "           - Alta propensão de compra\n",
    "       - Custo\n",
    "           - Baixa taxa de devolução\n",
    "       - Experiência de compra\n",
    "           - Média alta nas avaliações\n",
    "   \n",
    "   2. Quantos clientes farão parte do grupo?\n",
    "       - Número total de clientes\n",
    "       - % do grupo Insiders\n",
    "   \n",
    "   3. Quais as principais características desses clientes?\n",
    "       - Escrever características do cliente\n",
    "           - Idade\n",
    "           - Localização\n",
    "       - Escrever características do consumo\n",
    "           - Features/atributos da clusterização\n",
    "   \n",
    "   4. Qual a porcentagem de contribuição do faturamento que vem do Insiders?\n",
    "       - Faturamento total do ano\n",
    "       - Faturamento do grupo Insiders\n",
    "   \n",
    "   5. Qual a expectativa de faturamento desse grupo para os próximos meses?\n",
    "       - LTV do grupo Insiders\n",
    "       - Análise de cohort\n",
    "   \n",
    "   6. Quais as condições para uma pessoa ser elegível ao Insiders?\n",
    "       - Definir periodicidade (exemplo: 1 mês, 3 meses)\n",
    "       - A pessoa precisa ser similar com uma pessoa do grupo\n",
    "   \n",
    "   7. Quais as condições para uma pessoa ser removida do Insiders?\n",
    "       - Definir periodicidade (exemplo: 1 mês, 3 meses)\n",
    "       - A pessoa precisa ser desimilar com uma pessoa do grupo\n",
    "   \n",
    "   8. Qual a garantia que o programa Insiders é melhor que o restante da base?\n",
    "       - Teste A/B\n",
    "       - Teste A/B Bayesiano\n",
    "       - Teste de hipótese\n",
    "   \n",
    "   9. Quais ações o time de marketing pode fazer para aumentar o faturamento?\n",
    "       - Desconto\n",
    "       - Preferência de compra\n",
    "       - Frete\n",
    "       - Visita à empresa"
   ]
  },
  {
   "cell_type": "markdown",
   "id": "1a2c33dc",
   "metadata": {},
   "source": [
    "## 0.0. Imports"
   ]
  },
  {
   "cell_type": "code",
   "execution_count": 1,
   "id": "80757b97",
   "metadata": {},
   "outputs": [],
   "source": [
    "import umap\n",
    "import warnings\n",
    "import pandas  as pd\n",
    "import numpy   as np\n",
    "import seaborn as sns\n",
    "\n",
    "from matplotlib            import pyplot        as plt\n",
    "from sklearn               import cluster       as c\n",
    "from sklearn               import metrics       as m\n",
    "from plotly                import express       as px\n",
    "from sklearn               import decomposition as dd\n",
    "from sklearn               import ensemble      as en \n",
    "from sklearn.manifold      import TSNE \n",
    "\n",
    "from IPython.display       import HTML\n",
    "from sklearn.preprocessing import MinMaxScaler\n",
    "from pandas_profiling      import ProfileReport\n",
    "from yellowbrick.cluster   import KElbowVisualizer, SilhouetteVisualizer"
   ]
  },
  {
   "cell_type": "markdown",
   "id": "0686e3cc",
   "metadata": {},
   "source": [
    "## 0.1. Helper Functions"
   ]
  },
  {
   "cell_type": "code",
   "execution_count": 2,
   "id": "0f2dc410",
   "metadata": {},
   "outputs": [],
   "source": [
    "def jupyter_settings():\n",
    "    %matplotlib inline\n",
    "    %pylab inline\n",
    "    \n",
    "    plt.style.use( 'bmh' )\n",
    "    plt.rcParams['figure.figsize'] = [20, 12]\n",
    "    plt.rcParams['font.size'] = 24\n",
    "    \n",
    "    display( HTML( '<style>.container { width:100% !important; }</style>') )\n",
    "    pd.options.display.max_columns = None\n",
    "    pd.options.display.max_rows = None\n",
    "    pd.set_option( 'display.expand_frame_repr', False )\n",
    "    \n",
    "    sns.set()"
   ]
  },
  {
   "cell_type": "code",
   "execution_count": 3,
   "id": "b03ccec1",
   "metadata": {
    "scrolled": true
   },
   "outputs": [
    {
     "name": "stdout",
     "output_type": "stream",
     "text": [
      "%pylab is deprecated, use %matplotlib inline and import the required libraries.\n",
      "Populating the interactive namespace from numpy and matplotlib\n"
     ]
    },
    {
     "data": {
      "text/html": [
       "<style>.container { width:100% !important; }</style>"
      ],
      "text/plain": [
       "<IPython.core.display.HTML object>"
      ]
     },
     "metadata": {},
     "output_type": "display_data"
    }
   ],
   "source": [
    "jupyter_settings()"
   ]
  },
  {
   "cell_type": "code",
   "execution_count": 4,
   "id": "1300bb49",
   "metadata": {},
   "outputs": [],
   "source": [
    "def isnumber(value):\n",
    "    try:\n",
    "        int(value)\n",
    "    except ValueError:\n",
    "        return False\n",
    "    return True"
   ]
  },
  {
   "cell_type": "code",
   "execution_count": 5,
   "id": "5be85b76",
   "metadata": {},
   "outputs": [],
   "source": [
    "warnings.filterwarnings(\"ignore\")"
   ]
  },
  {
   "cell_type": "markdown",
   "id": "2d9d7f81",
   "metadata": {},
   "source": [
    "## 0.2. Loading dataset"
   ]
  },
  {
   "cell_type": "code",
   "execution_count": 6,
   "id": "14ee9634",
   "metadata": {},
   "outputs": [
    {
     "data": {
      "text/plain": [
       "'C:\\\\Users\\\\aline.moraes\\\\Documents\\\\Aprendizado_continuo\\\\Comunicade_DS\\\\insiders_clustering\\\\notebook'"
      ]
     },
     "execution_count": 6,
     "metadata": {},
     "output_type": "execute_result"
    }
   ],
   "source": [
    "pwd"
   ]
  },
  {
   "cell_type": "code",
   "execution_count": 7,
   "id": "61364801",
   "metadata": {
    "scrolled": true
   },
   "outputs": [],
   "source": [
    "# load data\n",
    "df_raw = pd.read_csv('Ecommerce.csv', encoding='unicode_escape')\n",
    "\n",
    "# drop extra column\n",
    "df_raw.drop(['Unnamed: 8'], axis=1, inplace=True)"
   ]
  },
  {
   "cell_type": "code",
   "execution_count": 8,
   "id": "95eea04f",
   "metadata": {},
   "outputs": [
    {
     "data": {
      "text/html": [
       "<div>\n",
       "<style scoped>\n",
       "    .dataframe tbody tr th:only-of-type {\n",
       "        vertical-align: middle;\n",
       "    }\n",
       "\n",
       "    .dataframe tbody tr th {\n",
       "        vertical-align: top;\n",
       "    }\n",
       "\n",
       "    .dataframe thead th {\n",
       "        text-align: right;\n",
       "    }\n",
       "</style>\n",
       "<table border=\"1\" class=\"dataframe\">\n",
       "  <thead>\n",
       "    <tr style=\"text-align: right;\">\n",
       "      <th></th>\n",
       "      <th>InvoiceNo</th>\n",
       "      <th>StockCode</th>\n",
       "      <th>Description</th>\n",
       "      <th>Quantity</th>\n",
       "      <th>InvoiceDate</th>\n",
       "      <th>UnitPrice</th>\n",
       "      <th>CustomerID</th>\n",
       "      <th>Country</th>\n",
       "    </tr>\n",
       "  </thead>\n",
       "  <tbody>\n",
       "    <tr>\n",
       "      <th>0</th>\n",
       "      <td>536365</td>\n",
       "      <td>85123A</td>\n",
       "      <td>WHITE HANGING HEART T-LIGHT HOLDER</td>\n",
       "      <td>6</td>\n",
       "      <td>29-Nov-16</td>\n",
       "      <td>2.55</td>\n",
       "      <td>17850.0</td>\n",
       "      <td>United Kingdom</td>\n",
       "    </tr>\n",
       "    <tr>\n",
       "      <th>1</th>\n",
       "      <td>536365</td>\n",
       "      <td>71053</td>\n",
       "      <td>WHITE METAL LANTERN</td>\n",
       "      <td>6</td>\n",
       "      <td>29-Nov-16</td>\n",
       "      <td>3.39</td>\n",
       "      <td>17850.0</td>\n",
       "      <td>United Kingdom</td>\n",
       "    </tr>\n",
       "  </tbody>\n",
       "</table>\n",
       "</div>"
      ],
      "text/plain": [
       "  InvoiceNo StockCode                         Description  Quantity InvoiceDate  UnitPrice  CustomerID         Country\n",
       "0    536365    85123A  WHITE HANGING HEART T-LIGHT HOLDER         6   29-Nov-16       2.55     17850.0  United Kingdom\n",
       "1    536365     71053                 WHITE METAL LANTERN         6   29-Nov-16       3.39     17850.0  United Kingdom"
      ]
     },
     "execution_count": 8,
     "metadata": {},
     "output_type": "execute_result"
    }
   ],
   "source": [
    "df_raw.head(2)"
   ]
  },
  {
   "cell_type": "markdown",
   "id": "944bb97b",
   "metadata": {},
   "source": [
    "## 1.0. Descrição dos dados"
   ]
  },
  {
   "cell_type": "code",
   "execution_count": 9,
   "id": "18d11174",
   "metadata": {},
   "outputs": [],
   "source": [
    "df1 = df_raw.copy()"
   ]
  },
  {
   "cell_type": "markdown",
   "id": "e2dd05b5",
   "metadata": {},
   "source": [
    "## 1.1. Rename columns"
   ]
  },
  {
   "cell_type": "code",
   "execution_count": 10,
   "id": "0a90a990",
   "metadata": {},
   "outputs": [
    {
     "data": {
      "text/plain": [
       "Index(['InvoiceNo', 'StockCode', 'Description', 'Quantity', 'InvoiceDate',\n",
       "       'UnitPrice', 'CustomerID', 'Country'],\n",
       "      dtype='object')"
      ]
     },
     "execution_count": 10,
     "metadata": {},
     "output_type": "execute_result"
    }
   ],
   "source": [
    "df1.columns"
   ]
  },
  {
   "cell_type": "code",
   "execution_count": 11,
   "id": "cb92a644",
   "metadata": {},
   "outputs": [],
   "source": [
    "cols_new = ['invoice_no', 'stock_code', 'description', 'quantity', 'invoice_date', 'unit_price', 'customer_id', 'country']"
   ]
  },
  {
   "cell_type": "code",
   "execution_count": 12,
   "id": "562432cd",
   "metadata": {},
   "outputs": [
    {
     "data": {
      "text/html": [
       "<div>\n",
       "<style scoped>\n",
       "    .dataframe tbody tr th:only-of-type {\n",
       "        vertical-align: middle;\n",
       "    }\n",
       "\n",
       "    .dataframe tbody tr th {\n",
       "        vertical-align: top;\n",
       "    }\n",
       "\n",
       "    .dataframe thead th {\n",
       "        text-align: right;\n",
       "    }\n",
       "</style>\n",
       "<table border=\"1\" class=\"dataframe\">\n",
       "  <thead>\n",
       "    <tr style=\"text-align: right;\">\n",
       "      <th></th>\n",
       "      <th>invoice_no</th>\n",
       "      <th>stock_code</th>\n",
       "      <th>description</th>\n",
       "      <th>quantity</th>\n",
       "      <th>invoice_date</th>\n",
       "      <th>unit_price</th>\n",
       "      <th>customer_id</th>\n",
       "      <th>country</th>\n",
       "    </tr>\n",
       "  </thead>\n",
       "  <tbody>\n",
       "    <tr>\n",
       "      <th>0</th>\n",
       "      <td>536365</td>\n",
       "      <td>85123A</td>\n",
       "      <td>WHITE HANGING HEART T-LIGHT HOLDER</td>\n",
       "      <td>6</td>\n",
       "      <td>29-Nov-16</td>\n",
       "      <td>2.55</td>\n",
       "      <td>17850.0</td>\n",
       "      <td>United Kingdom</td>\n",
       "    </tr>\n",
       "    <tr>\n",
       "      <th>1</th>\n",
       "      <td>536365</td>\n",
       "      <td>71053</td>\n",
       "      <td>WHITE METAL LANTERN</td>\n",
       "      <td>6</td>\n",
       "      <td>29-Nov-16</td>\n",
       "      <td>3.39</td>\n",
       "      <td>17850.0</td>\n",
       "      <td>United Kingdom</td>\n",
       "    </tr>\n",
       "  </tbody>\n",
       "</table>\n",
       "</div>"
      ],
      "text/plain": [
       "  invoice_no stock_code                         description  quantity invoice_date  unit_price  customer_id         country\n",
       "0     536365     85123A  WHITE HANGING HEART T-LIGHT HOLDER         6    29-Nov-16        2.55      17850.0  United Kingdom\n",
       "1     536365      71053                 WHITE METAL LANTERN         6    29-Nov-16        3.39      17850.0  United Kingdom"
      ]
     },
     "execution_count": 12,
     "metadata": {},
     "output_type": "execute_result"
    }
   ],
   "source": [
    "df1.columns = cols_new\n",
    "df1.head(2)"
   ]
  },
  {
   "cell_type": "markdown",
   "id": "9f930cc9",
   "metadata": {},
   "source": [
    "## 1.2. Data Dimensios"
   ]
  },
  {
   "cell_type": "code",
   "execution_count": 13,
   "id": "587705e8",
   "metadata": {},
   "outputs": [
    {
     "name": "stdout",
     "output_type": "stream",
     "text": [
      "Number of rows: 541909\n",
      "Number of columns: 8\n"
     ]
    }
   ],
   "source": [
    "print(f'Number of rows: {df1.shape[0]}')\n",
    "print(f'Number of columns: {df1.shape[1]}')"
   ]
  },
  {
   "cell_type": "markdown",
   "id": "5b16afbe",
   "metadata": {},
   "source": [
    "## 1.3. Data Types"
   ]
  },
  {
   "cell_type": "code",
   "execution_count": 14,
   "id": "e47ba8c0",
   "metadata": {},
   "outputs": [
    {
     "name": "stdout",
     "output_type": "stream",
     "text": [
      "<class 'pandas.core.frame.DataFrame'>\n",
      "RangeIndex: 541909 entries, 0 to 541908\n",
      "Data columns (total 8 columns):\n",
      " #   Column        Non-Null Count   Dtype  \n",
      "---  ------        --------------   -----  \n",
      " 0   invoice_no    541909 non-null  object \n",
      " 1   stock_code    541909 non-null  object \n",
      " 2   description   540455 non-null  object \n",
      " 3   quantity      541909 non-null  int64  \n",
      " 4   invoice_date  541909 non-null  object \n",
      " 5   unit_price    541909 non-null  float64\n",
      " 6   customer_id   406829 non-null  float64\n",
      " 7   country       541909 non-null  object \n",
      "dtypes: float64(2), int64(1), object(5)\n",
      "memory usage: 33.1+ MB\n"
     ]
    }
   ],
   "source": [
    "df1.info()\n",
    "\n",
    "# invoice_no e stock_code deveriam ser int\n",
    "# invoice_date deveria ser datetime\n",
    "# customer_id deveria ser int"
   ]
  },
  {
   "cell_type": "markdown",
   "id": "7aed4b95",
   "metadata": {},
   "source": [
    "## 1.4. Check NA"
   ]
  },
  {
   "cell_type": "code",
   "execution_count": 15,
   "id": "b8082136",
   "metadata": {},
   "outputs": [
    {
     "data": {
      "text/plain": [
       "invoice_no           0\n",
       "stock_code           0\n",
       "description       1454\n",
       "quantity             0\n",
       "invoice_date         0\n",
       "unit_price           0\n",
       "customer_id     135080\n",
       "country              0\n",
       "dtype: int64"
      ]
     },
     "execution_count": 15,
     "metadata": {},
     "output_type": "execute_result"
    }
   ],
   "source": [
    "df1.isna().sum()"
   ]
  },
  {
   "cell_type": "markdown",
   "id": "5595c634",
   "metadata": {},
   "source": [
    "## 1.5. Replace NA"
   ]
  },
  {
   "cell_type": "code",
   "execution_count": 16,
   "id": "7a53478f",
   "metadata": {},
   "outputs": [],
   "source": [
    "df_missing = df1[df1['customer_id'].isna()]\n",
    "df_not_missing = df1[~df1['customer_id'].isna()]"
   ]
  },
  {
   "cell_type": "code",
   "execution_count": 17,
   "id": "67fe8b9c",
   "metadata": {},
   "outputs": [
    {
     "data": {
      "text/plain": [
       "(135080, 8)"
      ]
     },
     "execution_count": 17,
     "metadata": {},
     "output_type": "execute_result"
    }
   ],
   "source": [
    "df_missing.shape"
   ]
  },
  {
   "cell_type": "code",
   "execution_count": 18,
   "id": "645114f4",
   "metadata": {},
   "outputs": [
    {
     "data": {
      "text/plain": [
       "(406829, 8)"
      ]
     },
     "execution_count": 18,
     "metadata": {},
     "output_type": "execute_result"
    }
   ],
   "source": [
    "df_not_missing.shape"
   ]
  },
  {
   "cell_type": "code",
   "execution_count": 19,
   "id": "56f9b245",
   "metadata": {},
   "outputs": [
    {
     "data": {
      "text/html": [
       "<div>\n",
       "<style scoped>\n",
       "    .dataframe tbody tr th:only-of-type {\n",
       "        vertical-align: middle;\n",
       "    }\n",
       "\n",
       "    .dataframe tbody tr th {\n",
       "        vertical-align: top;\n",
       "    }\n",
       "\n",
       "    .dataframe thead th {\n",
       "        text-align: right;\n",
       "    }\n",
       "</style>\n",
       "<table border=\"1\" class=\"dataframe\">\n",
       "  <thead>\n",
       "    <tr style=\"text-align: right;\">\n",
       "      <th></th>\n",
       "      <th>invoice_no</th>\n",
       "      <th>stock_code</th>\n",
       "      <th>description</th>\n",
       "      <th>quantity</th>\n",
       "      <th>invoice_date</th>\n",
       "      <th>unit_price</th>\n",
       "      <th>customer_id</th>\n",
       "      <th>country</th>\n",
       "    </tr>\n",
       "  </thead>\n",
       "  <tbody>\n",
       "  </tbody>\n",
       "</table>\n",
       "</div>"
      ],
      "text/plain": [
       "Empty DataFrame\n",
       "Columns: [invoice_no, stock_code, description, quantity, invoice_date, unit_price, customer_id, country]\n",
       "Index: []"
      ]
     },
     "execution_count": 19,
     "metadata": {},
     "output_type": "execute_result"
    }
   ],
   "source": [
    "# vamos identificar se há invoice_no iguais na df_missing e na df_not_missing, pq se sim, conseguiríamos recuperar os customers_id\n",
    "# como não temos, vamos usar outra estratégia para não apenas dropar os customers_id com NA: \n",
    "# vamos criar ids para os customers_id nulos de acordo com os invoice numbers\n",
    "\n",
    "df_not_missing[df_not_missing['invoice_no'].isin(df_missing['invoice_no'].drop_duplicates().to_list())]"
   ]
  },
  {
   "cell_type": "code",
   "execution_count": 20,
   "id": "7deeec0f",
   "metadata": {},
   "outputs": [
    {
     "data": {
      "text/plain": [
       "18287.0"
      ]
     },
     "execution_count": 20,
     "metadata": {},
     "output_type": "execute_result"
    }
   ],
   "source": [
    "df_not_missing['customer_id'].max()"
   ]
  },
  {
   "cell_type": "code",
   "execution_count": 21,
   "id": "44ff9895",
   "metadata": {},
   "outputs": [],
   "source": [
    "# Create reference\n",
    "\n",
    "df_backup = pd.DataFrame(df_missing['invoice_no'].drop_duplicates())\n",
    "df_backup['customer_id'] = np.arange(19000, 19000 + len(df_backup), 1)\n",
    "\n",
    "# merge original with reference database\n",
    "\n",
    "df1 = df1.merge(df_backup, how='left', on='invoice_no')\n",
    "\n",
    "# coalesce\n",
    "df1['customer_id'] = df1['customer_id_x'].combine_first(df1['customer_id_y'])\n",
    "\n",
    "#drop extra columns\n",
    "df1 = df1.drop(['customer_id_x', 'customer_id_y'], axis=1)"
   ]
  },
  {
   "cell_type": "code",
   "execution_count": 22,
   "id": "ac515771",
   "metadata": {},
   "outputs": [
    {
     "data": {
      "text/plain": [
       "invoice_no         0\n",
       "stock_code         0\n",
       "description     1454\n",
       "quantity           0\n",
       "invoice_date       0\n",
       "unit_price         0\n",
       "country            0\n",
       "customer_id        0\n",
       "dtype: int64"
      ]
     },
     "execution_count": 22,
     "metadata": {},
     "output_type": "execute_result"
    }
   ],
   "source": [
    "df1.isna().sum()"
   ]
  },
  {
   "cell_type": "markdown",
   "id": "a41a571d",
   "metadata": {},
   "source": [
    "## 1.6. Change dtypes"
   ]
  },
  {
   "cell_type": "code",
   "execution_count": 23,
   "id": "9eabfb4e",
   "metadata": {},
   "outputs": [
    {
     "name": "stdout",
     "output_type": "stream",
     "text": [
      "<class 'pandas.core.frame.DataFrame'>\n",
      "Int64Index: 541909 entries, 0 to 541908\n",
      "Data columns (total 8 columns):\n",
      " #   Column        Non-Null Count   Dtype  \n",
      "---  ------        --------------   -----  \n",
      " 0   invoice_no    541909 non-null  object \n",
      " 1   stock_code    541909 non-null  object \n",
      " 2   description   540455 non-null  object \n",
      " 3   quantity      541909 non-null  int64  \n",
      " 4   invoice_date  541909 non-null  object \n",
      " 5   unit_price    541909 non-null  float64\n",
      " 6   country       541909 non-null  object \n",
      " 7   customer_id   541909 non-null  float64\n",
      "dtypes: float64(2), int64(1), object(5)\n",
      "memory usage: 37.2+ MB\n"
     ]
    }
   ],
   "source": [
    "df1.info()"
   ]
  },
  {
   "cell_type": "code",
   "execution_count": 24,
   "id": "20b454f9",
   "metadata": {},
   "outputs": [
    {
     "name": "stdout",
     "output_type": "stream",
     "text": [
      "<class 'pandas.core.frame.DataFrame'>\n",
      "Int64Index: 541909 entries, 0 to 541908\n",
      "Data columns (total 8 columns):\n",
      " #   Column        Non-Null Count   Dtype         \n",
      "---  ------        --------------   -----         \n",
      " 0   invoice_no    541909 non-null  object        \n",
      " 1   stock_code    541909 non-null  object        \n",
      " 2   description   540455 non-null  object        \n",
      " 3   quantity      541909 non-null  int64         \n",
      " 4   invoice_date  541909 non-null  datetime64[ns]\n",
      " 5   unit_price    541909 non-null  float64       \n",
      " 6   country       541909 non-null  object        \n",
      " 7   customer_id   541909 non-null  int32         \n",
      "dtypes: datetime64[ns](1), float64(1), int32(1), int64(1), object(4)\n",
      "memory usage: 35.1+ MB\n"
     ]
    }
   ],
   "source": [
    "# invoice_date\n",
    "df1['invoice_date'] = pd.to_datetime(df1['invoice_date']) #format='%Y-%m-%d'\n",
    "\n",
    "# customer_id\n",
    "df1['customer_id'] = df1['customer_id'].astype(int) \n",
    "\n",
    "# Alteração do invoice_no e stock_code tem letras misturadas com os números, vamos tratar mais para frente\n",
    "\n",
    "df1.info()"
   ]
  },
  {
   "cell_type": "markdown",
   "id": "2d6379ae",
   "metadata": {},
   "source": [
    "## 1.7. Descriptive Statistics"
   ]
  },
  {
   "cell_type": "code",
   "execution_count": 25,
   "id": "7888bf60",
   "metadata": {},
   "outputs": [
    {
     "name": "stdout",
     "output_type": "stream",
     "text": [
      "<class 'pandas.core.frame.DataFrame'>\n",
      "Int64Index: 541909 entries, 0 to 541908\n",
      "Data columns (total 8 columns):\n",
      " #   Column        Non-Null Count   Dtype         \n",
      "---  ------        --------------   -----         \n",
      " 0   invoice_no    541909 non-null  object        \n",
      " 1   stock_code    541909 non-null  object        \n",
      " 2   description   540455 non-null  object        \n",
      " 3   quantity      541909 non-null  int64         \n",
      " 4   invoice_date  541909 non-null  datetime64[ns]\n",
      " 5   unit_price    541909 non-null  float64       \n",
      " 6   country       541909 non-null  object        \n",
      " 7   customer_id   541909 non-null  int32         \n",
      "dtypes: datetime64[ns](1), float64(1), int32(1), int64(1), object(4)\n",
      "memory usage: 35.1+ MB\n"
     ]
    }
   ],
   "source": [
    "df1.info()"
   ]
  },
  {
   "cell_type": "code",
   "execution_count": 26,
   "id": "860526c7",
   "metadata": {},
   "outputs": [],
   "source": [
    "num_attributes = df1.select_dtypes( include=['int64', 'float64', 'int32'] )\n",
    "cat_attributes = df1.select_dtypes( exclude=['int64', 'float64', 'int32', 'datetime64[ns]'] )"
   ]
  },
  {
   "cell_type": "markdown",
   "id": "5bb4da96",
   "metadata": {},
   "source": [
    "### 1.7.1 Numerical Attributes"
   ]
  },
  {
   "cell_type": "code",
   "execution_count": 27,
   "id": "f864cd81",
   "metadata": {},
   "outputs": [
    {
     "data": {
      "text/html": [
       "<div>\n",
       "<style scoped>\n",
       "    .dataframe tbody tr th:only-of-type {\n",
       "        vertical-align: middle;\n",
       "    }\n",
       "\n",
       "    .dataframe tbody tr th {\n",
       "        vertical-align: top;\n",
       "    }\n",
       "\n",
       "    .dataframe thead th {\n",
       "        text-align: right;\n",
       "    }\n",
       "</style>\n",
       "<table border=\"1\" class=\"dataframe\">\n",
       "  <thead>\n",
       "    <tr style=\"text-align: right;\">\n",
       "      <th></th>\n",
       "      <th>attributes</th>\n",
       "      <th>min</th>\n",
       "      <th>max</th>\n",
       "      <th>range</th>\n",
       "      <th>mean</th>\n",
       "      <th>median</th>\n",
       "      <th>std</th>\n",
       "      <th>skew</th>\n",
       "      <th>kurtosis</th>\n",
       "    </tr>\n",
       "  </thead>\n",
       "  <tbody>\n",
       "    <tr>\n",
       "      <th>0</th>\n",
       "      <td>quantity</td>\n",
       "      <td>-80995.00</td>\n",
       "      <td>80995.0</td>\n",
       "      <td>161990.00</td>\n",
       "      <td>9.552250</td>\n",
       "      <td>3.00</td>\n",
       "      <td>218.080957</td>\n",
       "      <td>-0.264076</td>\n",
       "      <td>119769.160031</td>\n",
       "    </tr>\n",
       "    <tr>\n",
       "      <th>1</th>\n",
       "      <td>unit_price</td>\n",
       "      <td>-11062.06</td>\n",
       "      <td>38970.0</td>\n",
       "      <td>50032.06</td>\n",
       "      <td>4.611114</td>\n",
       "      <td>2.08</td>\n",
       "      <td>96.759764</td>\n",
       "      <td>186.506972</td>\n",
       "      <td>59005.719097</td>\n",
       "    </tr>\n",
       "    <tr>\n",
       "      <th>2</th>\n",
       "      <td>customer_id</td>\n",
       "      <td>12346.00</td>\n",
       "      <td>22709.0</td>\n",
       "      <td>10363.00</td>\n",
       "      <td>16688.840453</td>\n",
       "      <td>16249.00</td>\n",
       "      <td>2911.408666</td>\n",
       "      <td>0.487449</td>\n",
       "      <td>-0.804287</td>\n",
       "    </tr>\n",
       "  </tbody>\n",
       "</table>\n",
       "</div>"
      ],
      "text/plain": [
       "    attributes       min      max      range          mean    median          std        skew       kurtosis\n",
       "0     quantity -80995.00  80995.0  161990.00      9.552250      3.00   218.080957   -0.264076  119769.160031\n",
       "1   unit_price -11062.06  38970.0   50032.06      4.611114      2.08    96.759764  186.506972   59005.719097\n",
       "2  customer_id  12346.00  22709.0   10363.00  16688.840453  16249.00  2911.408666    0.487449      -0.804287"
      ]
     },
     "execution_count": 27,
     "metadata": {},
     "output_type": "execute_result"
    }
   ],
   "source": [
    "# Central Tendency - mean, median\n",
    "ct1 = pd.DataFrame(num_attributes.apply(np.mean)).T\n",
    "ct2 = pd.DataFrame(num_attributes.apply(np.median)).T\n",
    "\n",
    "# Dispersion - std, min, max, range, skew, kurtosis\n",
    "d1 = pd.DataFrame(num_attributes.apply(np.std)).T\n",
    "d2 = pd.DataFrame(num_attributes.apply(np.min)).T\n",
    "d3 = pd.DataFrame(num_attributes.apply(np.max)).T\n",
    "d4 = pd.DataFrame(num_attributes.apply(lambda x: x.max() - x.min())).T\n",
    "d5 = pd.DataFrame(num_attributes.apply(lambda x: x.skew())).T\n",
    "d6 = pd.DataFrame(num_attributes.apply(lambda x: x.kurtosis())).T\n",
    "\n",
    "# Concatenate\n",
    "m = pd.concat([d2, d3, d4, ct1, ct2, d1, d5, d6]).T.reset_index()\n",
    "m.columns=['attributes', 'min', 'max', 'range', 'mean', 'median', 'std', 'skew', 'kurtosis']\n",
    "m"
   ]
  },
  {
   "cell_type": "markdown",
   "id": "1f57c8ea",
   "metadata": {},
   "source": [
    "### 1.7.1.1 Numerical Attributes Investigating"
   ]
  },
  {
   "cell_type": "markdown",
   "id": "20221a75",
   "metadata": {},
   "source": [
    "1. Quantidade negativa\n",
    "2. Preço unitário igual a zero"
   ]
  },
  {
   "cell_type": "code",
   "execution_count": 28,
   "id": "3430f10c",
   "metadata": {},
   "outputs": [
    {
     "data": {
      "text/html": [
       "<div>\n",
       "<style scoped>\n",
       "    .dataframe tbody tr th:only-of-type {\n",
       "        vertical-align: middle;\n",
       "    }\n",
       "\n",
       "    .dataframe tbody tr th {\n",
       "        vertical-align: top;\n",
       "    }\n",
       "\n",
       "    .dataframe thead th {\n",
       "        text-align: right;\n",
       "    }\n",
       "</style>\n",
       "<table border=\"1\" class=\"dataframe\">\n",
       "  <thead>\n",
       "    <tr style=\"text-align: right;\">\n",
       "      <th></th>\n",
       "      <th>invoice_no</th>\n",
       "      <th>stock_code</th>\n",
       "      <th>description</th>\n",
       "      <th>quantity</th>\n",
       "      <th>invoice_date</th>\n",
       "      <th>unit_price</th>\n",
       "      <th>country</th>\n",
       "      <th>customer_id</th>\n",
       "    </tr>\n",
       "  </thead>\n",
       "  <tbody>\n",
       "    <tr>\n",
       "      <th>141</th>\n",
       "      <td>C536379</td>\n",
       "      <td>D</td>\n",
       "      <td>Discount</td>\n",
       "      <td>-1</td>\n",
       "      <td>2016-11-29</td>\n",
       "      <td>27.50</td>\n",
       "      <td>United Kingdom</td>\n",
       "      <td>14527</td>\n",
       "    </tr>\n",
       "    <tr>\n",
       "      <th>154</th>\n",
       "      <td>C536383</td>\n",
       "      <td>35004C</td>\n",
       "      <td>SET OF 3 COLOURED  FLYING DUCKS</td>\n",
       "      <td>-1</td>\n",
       "      <td>2016-11-29</td>\n",
       "      <td>4.65</td>\n",
       "      <td>United Kingdom</td>\n",
       "      <td>15311</td>\n",
       "    </tr>\n",
       "    <tr>\n",
       "      <th>235</th>\n",
       "      <td>C536391</td>\n",
       "      <td>22556</td>\n",
       "      <td>PLASTERS IN TIN CIRCUS PARADE</td>\n",
       "      <td>-12</td>\n",
       "      <td>2016-11-29</td>\n",
       "      <td>1.65</td>\n",
       "      <td>United Kingdom</td>\n",
       "      <td>17548</td>\n",
       "    </tr>\n",
       "    <tr>\n",
       "      <th>236</th>\n",
       "      <td>C536391</td>\n",
       "      <td>21984</td>\n",
       "      <td>PACK OF 12 PINK PAISLEY TISSUES</td>\n",
       "      <td>-24</td>\n",
       "      <td>2016-11-29</td>\n",
       "      <td>0.29</td>\n",
       "      <td>United Kingdom</td>\n",
       "      <td>17548</td>\n",
       "    </tr>\n",
       "    <tr>\n",
       "      <th>237</th>\n",
       "      <td>C536391</td>\n",
       "      <td>21983</td>\n",
       "      <td>PACK OF 12 BLUE PAISLEY TISSUES</td>\n",
       "      <td>-24</td>\n",
       "      <td>2016-11-29</td>\n",
       "      <td>0.29</td>\n",
       "      <td>United Kingdom</td>\n",
       "      <td>17548</td>\n",
       "    </tr>\n",
       "  </tbody>\n",
       "</table>\n",
       "</div>"
      ],
      "text/plain": [
       "    invoice_no stock_code                       description  quantity invoice_date  unit_price         country  customer_id\n",
       "141    C536379          D                          Discount        -1   2016-11-29       27.50  United Kingdom        14527\n",
       "154    C536383     35004C   SET OF 3 COLOURED  FLYING DUCKS        -1   2016-11-29        4.65  United Kingdom        15311\n",
       "235    C536391      22556    PLASTERS IN TIN CIRCUS PARADE        -12   2016-11-29        1.65  United Kingdom        17548\n",
       "236    C536391      21984  PACK OF 12 PINK PAISLEY TISSUES        -24   2016-11-29        0.29  United Kingdom        17548\n",
       "237    C536391      21983  PACK OF 12 BLUE PAISLEY TISSUES        -24   2016-11-29        0.29  United Kingdom        17548"
      ]
     },
     "execution_count": 28,
     "metadata": {},
     "output_type": "execute_result"
    }
   ],
   "source": [
    "df1[df1['quantity'] <= 0].head()"
   ]
  },
  {
   "cell_type": "code",
   "execution_count": 29,
   "id": "cb313c1b",
   "metadata": {},
   "outputs": [
    {
     "name": "stdout",
     "output_type": "stream",
     "text": [
      "10624 registros com quantidade < 0\n",
      "Alguns estão como Discont na descrição e outros com C no início de invoice, indicando um possível cancelamento/cancel ou alteração/change\n"
     ]
    }
   ],
   "source": [
    "rows = df1[df1['quantity'] <= 0].shape[0]\n",
    "print(f'{rows} registros com quantidade < 0\\nAlguns estão como Discont na descrição e outros com C no início de invoice, indicando um possível cancelamento/cancel ou alteração/change')"
   ]
  },
  {
   "cell_type": "code",
   "execution_count": 30,
   "id": "5d56ecd2",
   "metadata": {},
   "outputs": [
    {
     "data": {
      "text/html": [
       "<div>\n",
       "<style scoped>\n",
       "    .dataframe tbody tr th:only-of-type {\n",
       "        vertical-align: middle;\n",
       "    }\n",
       "\n",
       "    .dataframe tbody tr th {\n",
       "        vertical-align: top;\n",
       "    }\n",
       "\n",
       "    .dataframe thead th {\n",
       "        text-align: right;\n",
       "    }\n",
       "</style>\n",
       "<table border=\"1\" class=\"dataframe\">\n",
       "  <thead>\n",
       "    <tr style=\"text-align: right;\">\n",
       "      <th></th>\n",
       "      <th>invoice_no</th>\n",
       "      <th>stock_code</th>\n",
       "      <th>description</th>\n",
       "      <th>quantity</th>\n",
       "      <th>invoice_date</th>\n",
       "      <th>unit_price</th>\n",
       "      <th>country</th>\n",
       "      <th>customer_id</th>\n",
       "    </tr>\n",
       "  </thead>\n",
       "  <tbody>\n",
       "    <tr>\n",
       "      <th>404951</th>\n",
       "      <td>571704</td>\n",
       "      <td>23579</td>\n",
       "      <td>Sale error</td>\n",
       "      <td>4</td>\n",
       "      <td>2017-10-16</td>\n",
       "      <td>0.0</td>\n",
       "      <td>United Kingdom</td>\n",
       "      <td>22061</td>\n",
       "    </tr>\n",
       "    <tr>\n",
       "      <th>323872</th>\n",
       "      <td>565370</td>\n",
       "      <td>82494L</td>\n",
       "      <td>crushed ctn</td>\n",
       "      <td>-33</td>\n",
       "      <td>2017-08-31</td>\n",
       "      <td>0.0</td>\n",
       "      <td>United Kingdom</td>\n",
       "      <td>21639</td>\n",
       "    </tr>\n",
       "    <tr>\n",
       "      <th>20398</th>\n",
       "      <td>538045</td>\n",
       "      <td>84688</td>\n",
       "      <td>NaN</td>\n",
       "      <td>27</td>\n",
       "      <td>2016-12-07</td>\n",
       "      <td>0.0</td>\n",
       "      <td>United Kingdom</td>\n",
       "      <td>19146</td>\n",
       "    </tr>\n",
       "    <tr>\n",
       "      <th>20399</th>\n",
       "      <td>538046</td>\n",
       "      <td>85008</td>\n",
       "      <td>NaN</td>\n",
       "      <td>-15</td>\n",
       "      <td>2016-12-07</td>\n",
       "      <td>0.0</td>\n",
       "      <td>United Kingdom</td>\n",
       "      <td>19147</td>\n",
       "    </tr>\n",
       "    <tr>\n",
       "      <th>373013</th>\n",
       "      <td>569256</td>\n",
       "      <td>20774</td>\n",
       "      <td>damaged</td>\n",
       "      <td>-14</td>\n",
       "      <td>2017-10-01</td>\n",
       "      <td>0.0</td>\n",
       "      <td>United Kingdom</td>\n",
       "      <td>21867</td>\n",
       "    </tr>\n",
       "  </tbody>\n",
       "</table>\n",
       "</div>"
      ],
      "text/plain": [
       "       invoice_no stock_code  description  quantity invoice_date  unit_price         country  customer_id\n",
       "404951     571704      23579   Sale error         4   2017-10-16         0.0  United Kingdom        22061\n",
       "323872     565370     82494L  crushed ctn       -33   2017-08-31         0.0  United Kingdom        21639\n",
       "20398      538045      84688          NaN        27   2016-12-07         0.0  United Kingdom        19146\n",
       "20399      538046      85008          NaN       -15   2016-12-07         0.0  United Kingdom        19147\n",
       "373013     569256      20774      damaged       -14   2017-10-01         0.0  United Kingdom        21867"
      ]
     },
     "execution_count": 30,
     "metadata": {},
     "output_type": "execute_result"
    }
   ],
   "source": [
    "df1[df1['unit_price'] == 0].sample(5)"
   ]
  },
  {
   "cell_type": "code",
   "execution_count": 31,
   "id": "4c7538d1",
   "metadata": {
    "scrolled": true
   },
   "outputs": [
    {
     "name": "stdout",
     "output_type": "stream",
     "text": [
      "2515 registros com preço igual a zero\n",
      "Alguns estão como Manual na descrição, mas a maioria apresenta informações coerentes em invoice_no, stock_code e description\n"
     ]
    }
   ],
   "source": [
    "rows = df1[df1['unit_price'] == 0].shape[0]\n",
    "print(f'{rows} registros com preço igual a zero\\nAlguns estão como Manual na descrição, mas a maioria apresenta informações coerentes em invoice_no, stock_code e description')"
   ]
  },
  {
   "cell_type": "code",
   "execution_count": 32,
   "id": "98d4d373",
   "metadata": {
    "scrolled": true
   },
   "outputs": [
    {
     "data": {
      "text/html": [
       "<div>\n",
       "<style scoped>\n",
       "    .dataframe tbody tr th:only-of-type {\n",
       "        vertical-align: middle;\n",
       "    }\n",
       "\n",
       "    .dataframe tbody tr th {\n",
       "        vertical-align: top;\n",
       "    }\n",
       "\n",
       "    .dataframe thead th {\n",
       "        text-align: right;\n",
       "    }\n",
       "</style>\n",
       "<table border=\"1\" class=\"dataframe\">\n",
       "  <thead>\n",
       "    <tr style=\"text-align: right;\">\n",
       "      <th></th>\n",
       "      <th>invoice_no</th>\n",
       "      <th>stock_code</th>\n",
       "      <th>description</th>\n",
       "      <th>quantity</th>\n",
       "      <th>invoice_date</th>\n",
       "      <th>unit_price</th>\n",
       "      <th>country</th>\n",
       "      <th>customer_id</th>\n",
       "    </tr>\n",
       "  </thead>\n",
       "  <tbody>\n",
       "    <tr>\n",
       "      <th>157195</th>\n",
       "      <td>550193</td>\n",
       "      <td>PADS</td>\n",
       "      <td>PADS TO MATCH ALL CUSHIONS</td>\n",
       "      <td>1</td>\n",
       "      <td>2017-04-13</td>\n",
       "      <td>0.001</td>\n",
       "      <td>United Kingdom</td>\n",
       "      <td>13952</td>\n",
       "    </tr>\n",
       "    <tr>\n",
       "      <th>279045</th>\n",
       "      <td>561226</td>\n",
       "      <td>PADS</td>\n",
       "      <td>PADS TO MATCH ALL CUSHIONS</td>\n",
       "      <td>1</td>\n",
       "      <td>2017-07-24</td>\n",
       "      <td>0.001</td>\n",
       "      <td>United Kingdom</td>\n",
       "      <td>15618</td>\n",
       "    </tr>\n",
       "    <tr>\n",
       "      <th>361741</th>\n",
       "      <td>568375</td>\n",
       "      <td>BANK CHARGES</td>\n",
       "      <td>Bank Charges</td>\n",
       "      <td>1</td>\n",
       "      <td>2017-09-24</td>\n",
       "      <td>0.001</td>\n",
       "      <td>United Kingdom</td>\n",
       "      <td>13405</td>\n",
       "    </tr>\n",
       "    <tr>\n",
       "      <th>359871</th>\n",
       "      <td>568200</td>\n",
       "      <td>PADS</td>\n",
       "      <td>PADS TO MATCH ALL CUSHIONS</td>\n",
       "      <td>1</td>\n",
       "      <td>2017-09-23</td>\n",
       "      <td>0.001</td>\n",
       "      <td>United Kingdom</td>\n",
       "      <td>16198</td>\n",
       "    </tr>\n",
       "    <tr>\n",
       "      <th>108088</th>\n",
       "      <td>C545478</td>\n",
       "      <td>D</td>\n",
       "      <td>Discount</td>\n",
       "      <td>-720</td>\n",
       "      <td>2017-03-01</td>\n",
       "      <td>0.010</td>\n",
       "      <td>United Kingdom</td>\n",
       "      <td>16422</td>\n",
       "    </tr>\n",
       "  </tbody>\n",
       "</table>\n",
       "</div>"
      ],
      "text/plain": [
       "       invoice_no    stock_code                 description  quantity invoice_date  unit_price         country  customer_id\n",
       "157195     550193          PADS  PADS TO MATCH ALL CUSHIONS         1   2017-04-13       0.001  United Kingdom        13952\n",
       "279045     561226          PADS  PADS TO MATCH ALL CUSHIONS         1   2017-07-24       0.001  United Kingdom        15618\n",
       "361741     568375  BANK CHARGES                Bank Charges         1   2017-09-24       0.001  United Kingdom        13405\n",
       "359871     568200          PADS  PADS TO MATCH ALL CUSHIONS         1   2017-09-23       0.001  United Kingdom        16198\n",
       "108088    C545478             D                    Discount      -720   2017-03-01       0.010  United Kingdom        16422"
      ]
     },
     "execution_count": 32,
     "metadata": {},
     "output_type": "execute_result"
    }
   ],
   "source": [
    "#ainda há valores bem pequenos como $ 0.001 e com o stock_code apenas com string\n",
    "df1[df1['unit_price'] > 0.0].sort_values('unit_price', ascending=True).head()"
   ]
  },
  {
   "cell_type": "markdown",
   "id": "75aff799",
   "metadata": {},
   "source": [
    "### 1.7.2 Categorical Attributes"
   ]
  },
  {
   "cell_type": "code",
   "execution_count": 33,
   "id": "f5d5f4e3",
   "metadata": {
    "scrolled": true
   },
   "outputs": [
    {
     "data": {
      "text/html": [
       "<div>\n",
       "<style scoped>\n",
       "    .dataframe tbody tr th:only-of-type {\n",
       "        vertical-align: middle;\n",
       "    }\n",
       "\n",
       "    .dataframe tbody tr th {\n",
       "        vertical-align: top;\n",
       "    }\n",
       "\n",
       "    .dataframe thead th {\n",
       "        text-align: right;\n",
       "    }\n",
       "</style>\n",
       "<table border=\"1\" class=\"dataframe\">\n",
       "  <thead>\n",
       "    <tr style=\"text-align: right;\">\n",
       "      <th></th>\n",
       "      <th>invoice_no</th>\n",
       "      <th>stock_code</th>\n",
       "      <th>description</th>\n",
       "      <th>country</th>\n",
       "    </tr>\n",
       "  </thead>\n",
       "  <tbody>\n",
       "    <tr>\n",
       "      <th>93618</th>\n",
       "      <td>544303</td>\n",
       "      <td>85123A</td>\n",
       "      <td>WHITE HANGING HEART T-LIGHT HOLDER</td>\n",
       "      <td>United Kingdom</td>\n",
       "    </tr>\n",
       "    <tr>\n",
       "      <th>6706</th>\n",
       "      <td>536975</td>\n",
       "      <td>21912</td>\n",
       "      <td>VINTAGE SNAKES &amp; LADDERS</td>\n",
       "      <td>EIRE</td>\n",
       "    </tr>\n",
       "    <tr>\n",
       "      <th>162863</th>\n",
       "      <td>550521</td>\n",
       "      <td>84879</td>\n",
       "      <td>ASSORTED COLOUR BIRD ORNAMENT</td>\n",
       "      <td>United Kingdom</td>\n",
       "    </tr>\n",
       "  </tbody>\n",
       "</table>\n",
       "</div>"
      ],
      "text/plain": [
       "       invoice_no stock_code                         description         country\n",
       "93618      544303     85123A  WHITE HANGING HEART T-LIGHT HOLDER  United Kingdom\n",
       "6706       536975      21912            VINTAGE SNAKES & LADDERS            EIRE\n",
       "162863     550521      84879       ASSORTED COLOUR BIRD ORNAMENT  United Kingdom"
      ]
     },
     "execution_count": 33,
     "metadata": {},
     "output_type": "execute_result"
    }
   ],
   "source": [
    "cat_attributes.sample(3)\n",
    "\n",
    "# invoice_no e stock_code não deveriam estar como categórico, mas estão pq há alguns registros com letras"
   ]
  },
  {
   "cell_type": "code",
   "execution_count": 34,
   "id": "86cc8737",
   "metadata": {},
   "outputs": [],
   "source": [
    "cat_attributes['check_invoice_no'] = cat_attributes['invoice_no'].apply(isnumber)\n",
    "cat_attributes['check_stock_code'] = cat_attributes['stock_code'].apply(isnumber)"
   ]
  },
  {
   "cell_type": "code",
   "execution_count": 35,
   "id": "d84427f7",
   "metadata": {
    "scrolled": true
   },
   "outputs": [
    {
     "data": {
      "text/plain": [
       "9291"
      ]
     },
     "execution_count": 35,
     "metadata": {},
     "output_type": "execute_result"
    }
   ],
   "source": [
    "cat_attributes[cat_attributes['check_invoice_no'] == False].shape[0]\n",
    "\n",
    "# número de registros em invoice_no que tem pelo menos 1 letra"
   ]
  },
  {
   "cell_type": "code",
   "execution_count": 36,
   "id": "9e6c4a3c",
   "metadata": {},
   "outputs": [
    {
     "data": {
      "text/plain": [
       "54873"
      ]
     },
     "execution_count": 36,
     "metadata": {},
     "output_type": "execute_result"
    }
   ],
   "source": [
    "cat_attributes[cat_attributes['check_stock_code'] == False].shape[0]\n",
    "\n",
    "# número de registros em stock_code que tem pelo menos 1 letra"
   ]
  },
  {
   "cell_type": "code",
   "execution_count": 37,
   "id": "b8bbd239",
   "metadata": {},
   "outputs": [
    {
     "data": {
      "text/plain": [
       "541909"
      ]
     },
     "execution_count": 37,
     "metadata": {},
     "output_type": "execute_result"
    }
   ],
   "source": [
    "cat_attributes.shape[0]\n",
    "\n",
    "# número total de registros"
   ]
  },
  {
   "cell_type": "code",
   "execution_count": 38,
   "id": "ad319945",
   "metadata": {},
   "outputs": [
    {
     "data": {
      "text/plain": [
       "array(['POST', 'D', 'DOT', 'M', 'S', 'AMAZONFEE', 'm', 'DCGSSBOY',\n",
       "       'DCGSSGIRL', 'PADS', 'B', 'CRUK'], dtype=object)"
      ]
     },
     "execution_count": 38,
     "metadata": {},
     "output_type": "execute_result"
    }
   ],
   "source": [
    "# itens em stock_code que apresentam só letras\n",
    "\n",
    "df1.loc[df1['stock_code'].apply(lambda x: bool(re.search('^[a-zA-Z]+$', x))), 'stock_code' ].unique()\n",
    "\n",
    "# na regex, [a-zA-Z] significa que quero qualquer valor de a-z ou A-Z \n",
    "# não quero só um valor, eu quero mais de um valor, por isso o +\n",
    "# como não quero letras só no meio e sim que a string comece e termine com letras, acrescentamos ^ no início e $ no final"
   ]
  },
  {
   "cell_type": "code",
   "execution_count": 39,
   "id": "2302e10c",
   "metadata": {
    "scrolled": true
   },
   "outputs": [
    {
     "data": {
      "text/plain": [
       "array(['United Kingdom', 'France', 'Australia', 'Netherlands', 'Germany',\n",
       "       'Norway', 'EIRE', 'Switzerland', 'Spain', 'Poland', 'Portugal',\n",
       "       'Italy', 'Belgium', 'Lithuania', 'Japan', 'Iceland',\n",
       "       'Channel Islands', 'Denmark', 'Cyprus', 'Sweden', 'Austria',\n",
       "       'Israel', 'Finland', 'Bahrain', 'Greece', 'Hong Kong', 'Singapore',\n",
       "       'Lebanon', 'United Arab Emirates', 'Saudi Arabia',\n",
       "       'Czech Republic', 'Canada', 'Unspecified', 'Brazil', 'USA',\n",
       "       'European Community', 'Malta', 'RSA'], dtype=object)"
      ]
     },
     "execution_count": 39,
     "metadata": {},
     "output_type": "execute_result"
    }
   ],
   "source": [
    "# country\n",
    "\n",
    "df1['country'].unique()"
   ]
  },
  {
   "cell_type": "code",
   "execution_count": 40,
   "id": "3ea7d84e",
   "metadata": {},
   "outputs": [],
   "source": [
    "# Vamos substituir os country por lat/long com os dados do arquivo https://developers.google.com/public-data/docs/canonical/countries_csv\n",
    "# Remover: European Community e Unspecified\n",
    "# Trocar USA, EIRE e RSA por United States, X e South Africa, respectivamente  "
   ]
  },
  {
   "cell_type": "markdown",
   "id": "f4b72b1f",
   "metadata": {},
   "source": [
    "## 2.0. Filtragem de Variáveis"
   ]
  },
  {
   "cell_type": "code",
   "execution_count": 41,
   "id": "1ca72712",
   "metadata": {},
   "outputs": [],
   "source": [
    "df2 = df1.copy()"
   ]
  },
  {
   "cell_type": "code",
   "execution_count": 42,
   "id": "4943ef02",
   "metadata": {},
   "outputs": [],
   "source": [
    "# Numerical attributes\n",
    "\n",
    "df2 = df2[(df2['quantity'] > 0) & (df2['unit_price'] > 0.04)]\n",
    "\n",
    "# Categorical attributes\n",
    "\n",
    "itens = ['POST', 'D', 'M', 'PADS', 'DOT', 'CRUK']\n",
    "df2 = df2[~df2['stock_code'].isin(itens)]\n",
    "\n",
    "# Description: vamos remover pq não agregará ao modelo\n",
    "df2 = df2.drop('description', axis=1)\n",
    "\n",
    "# Country\n",
    "df2 = df2[~df2['country'].isin(['European Community','Unspecified'])]"
   ]
  },
  {
   "cell_type": "markdown",
   "id": "87111798",
   "metadata": {},
   "source": [
    "## 3.0. Feature Engineering"
   ]
  },
  {
   "cell_type": "code",
   "execution_count": 43,
   "id": "5d4c464d",
   "metadata": {},
   "outputs": [],
   "source": [
    "df3 = df2.copy()"
   ]
  },
  {
   "cell_type": "markdown",
   "id": "b6b4c0a5",
   "metadata": {},
   "source": [
    "## 3.1. Feature Creation"
   ]
  },
  {
   "cell_type": "code",
   "execution_count": 44,
   "id": "6b26ba10",
   "metadata": {},
   "outputs": [
    {
     "data": {
      "text/html": [
       "<div>\n",
       "<style scoped>\n",
       "    .dataframe tbody tr th:only-of-type {\n",
       "        vertical-align: middle;\n",
       "    }\n",
       "\n",
       "    .dataframe tbody tr th {\n",
       "        vertical-align: top;\n",
       "    }\n",
       "\n",
       "    .dataframe thead th {\n",
       "        text-align: right;\n",
       "    }\n",
       "</style>\n",
       "<table border=\"1\" class=\"dataframe\">\n",
       "  <thead>\n",
       "    <tr style=\"text-align: right;\">\n",
       "      <th></th>\n",
       "      <th>invoice_no</th>\n",
       "      <th>stock_code</th>\n",
       "      <th>quantity</th>\n",
       "      <th>invoice_date</th>\n",
       "      <th>unit_price</th>\n",
       "      <th>country</th>\n",
       "      <th>customer_id</th>\n",
       "    </tr>\n",
       "  </thead>\n",
       "  <tbody>\n",
       "    <tr>\n",
       "      <th>0</th>\n",
       "      <td>536365</td>\n",
       "      <td>85123A</td>\n",
       "      <td>6</td>\n",
       "      <td>2016-11-29</td>\n",
       "      <td>2.55</td>\n",
       "      <td>United Kingdom</td>\n",
       "      <td>17850</td>\n",
       "    </tr>\n",
       "    <tr>\n",
       "      <th>1</th>\n",
       "      <td>536365</td>\n",
       "      <td>71053</td>\n",
       "      <td>6</td>\n",
       "      <td>2016-11-29</td>\n",
       "      <td>3.39</td>\n",
       "      <td>United Kingdom</td>\n",
       "      <td>17850</td>\n",
       "    </tr>\n",
       "    <tr>\n",
       "      <th>2</th>\n",
       "      <td>536365</td>\n",
       "      <td>84406B</td>\n",
       "      <td>8</td>\n",
       "      <td>2016-11-29</td>\n",
       "      <td>2.75</td>\n",
       "      <td>United Kingdom</td>\n",
       "      <td>17850</td>\n",
       "    </tr>\n",
       "    <tr>\n",
       "      <th>3</th>\n",
       "      <td>536365</td>\n",
       "      <td>84029G</td>\n",
       "      <td>6</td>\n",
       "      <td>2016-11-29</td>\n",
       "      <td>3.39</td>\n",
       "      <td>United Kingdom</td>\n",
       "      <td>17850</td>\n",
       "    </tr>\n",
       "    <tr>\n",
       "      <th>4</th>\n",
       "      <td>536365</td>\n",
       "      <td>84029E</td>\n",
       "      <td>6</td>\n",
       "      <td>2016-11-29</td>\n",
       "      <td>3.39</td>\n",
       "      <td>United Kingdom</td>\n",
       "      <td>17850</td>\n",
       "    </tr>\n",
       "  </tbody>\n",
       "</table>\n",
       "</div>"
      ],
      "text/plain": [
       "  invoice_no stock_code  quantity invoice_date  unit_price         country  customer_id\n",
       "0     536365     85123A         6   2016-11-29        2.55  United Kingdom        17850\n",
       "1     536365      71053         6   2016-11-29        3.39  United Kingdom        17850\n",
       "2     536365     84406B         8   2016-11-29        2.75  United Kingdom        17850\n",
       "3     536365     84029G         6   2016-11-29        3.39  United Kingdom        17850\n",
       "4     536365     84029E         6   2016-11-29        3.39  United Kingdom        17850"
      ]
     },
     "execution_count": 44,
     "metadata": {},
     "output_type": "execute_result"
    }
   ],
   "source": [
    "df3.head()"
   ]
  },
  {
   "cell_type": "code",
   "execution_count": 45,
   "id": "c1ab336a",
   "metadata": {},
   "outputs": [
    {
     "data": {
      "text/html": [
       "<div>\n",
       "<style scoped>\n",
       "    .dataframe tbody tr th:only-of-type {\n",
       "        vertical-align: middle;\n",
       "    }\n",
       "\n",
       "    .dataframe tbody tr th {\n",
       "        vertical-align: top;\n",
       "    }\n",
       "\n",
       "    .dataframe thead th {\n",
       "        text-align: right;\n",
       "    }\n",
       "</style>\n",
       "<table border=\"1\" class=\"dataframe\">\n",
       "  <thead>\n",
       "    <tr style=\"text-align: right;\">\n",
       "      <th></th>\n",
       "      <th>customer_id</th>\n",
       "    </tr>\n",
       "  </thead>\n",
       "  <tbody>\n",
       "    <tr>\n",
       "      <th>0</th>\n",
       "      <td>17850</td>\n",
       "    </tr>\n",
       "    <tr>\n",
       "      <th>1</th>\n",
       "      <td>13047</td>\n",
       "    </tr>\n",
       "    <tr>\n",
       "      <th>2</th>\n",
       "      <td>12583</td>\n",
       "    </tr>\n",
       "    <tr>\n",
       "      <th>3</th>\n",
       "      <td>13748</td>\n",
       "    </tr>\n",
       "    <tr>\n",
       "      <th>4</th>\n",
       "      <td>15100</td>\n",
       "    </tr>\n",
       "  </tbody>\n",
       "</table>\n",
       "</div>"
      ],
      "text/plain": [
       "   customer_id\n",
       "0        17850\n",
       "1        13047\n",
       "2        12583\n",
       "3        13748\n",
       "4        15100"
      ]
     },
     "execution_count": 45,
     "metadata": {},
     "output_type": "execute_result"
    }
   ],
   "source": [
    "# data reference\n",
    "# como o objetivo é clusterizar nossos clientes, o df_ref terá os unique customers_id \n",
    "\n",
    "df_ref = df3.drop(['invoice_no', 'stock_code', 'quantity', 'invoice_date', 'unit_price', 'country'], axis=1).drop_duplicates(ignore_index=True)\n",
    "df_ref.head()"
   ]
  },
  {
   "cell_type": "code",
   "execution_count": 46,
   "id": "04cb0c97",
   "metadata": {},
   "outputs": [
    {
     "name": "stdout",
     "output_type": "stream",
     "text": [
      "Temos 5701 clientes na base\n"
     ]
    }
   ],
   "source": [
    "print(f'Temos {df_ref.shape[0]} clientes na base')"
   ]
  },
  {
   "cell_type": "markdown",
   "id": "69954bc6",
   "metadata": {},
   "source": [
    "### 3.1.1 Monetary"
   ]
  },
  {
   "cell_type": "code",
   "execution_count": 47,
   "id": "0e8537bf",
   "metadata": {},
   "outputs": [],
   "source": [
    "# Gross Revenue (quantity*price = Faturamento)\n",
    "df3['gross_revenue'] = df3['quantity'] * df3['unit_price']"
   ]
  },
  {
   "cell_type": "code",
   "execution_count": 48,
   "id": "5a14c215",
   "metadata": {},
   "outputs": [
    {
     "data": {
      "text/html": [
       "<div>\n",
       "<style scoped>\n",
       "    .dataframe tbody tr th:only-of-type {\n",
       "        vertical-align: middle;\n",
       "    }\n",
       "\n",
       "    .dataframe tbody tr th {\n",
       "        vertical-align: top;\n",
       "    }\n",
       "\n",
       "    .dataframe thead th {\n",
       "        text-align: right;\n",
       "    }\n",
       "</style>\n",
       "<table border=\"1\" class=\"dataframe\">\n",
       "  <thead>\n",
       "    <tr style=\"text-align: right;\">\n",
       "      <th></th>\n",
       "      <th>customer_id</th>\n",
       "      <th>gross_revenue</th>\n",
       "    </tr>\n",
       "  </thead>\n",
       "  <tbody>\n",
       "    <tr>\n",
       "      <th>0</th>\n",
       "      <td>12346</td>\n",
       "      <td>77183.60</td>\n",
       "    </tr>\n",
       "    <tr>\n",
       "      <th>1</th>\n",
       "      <td>12347</td>\n",
       "      <td>4310.00</td>\n",
       "    </tr>\n",
       "    <tr>\n",
       "      <th>2</th>\n",
       "      <td>12348</td>\n",
       "      <td>1437.24</td>\n",
       "    </tr>\n",
       "    <tr>\n",
       "      <th>3</th>\n",
       "      <td>12349</td>\n",
       "      <td>1457.55</td>\n",
       "    </tr>\n",
       "    <tr>\n",
       "      <th>4</th>\n",
       "      <td>12350</td>\n",
       "      <td>294.40</td>\n",
       "    </tr>\n",
       "  </tbody>\n",
       "</table>\n",
       "</div>"
      ],
      "text/plain": [
       "   customer_id  gross_revenue\n",
       "0        12346       77183.60\n",
       "1        12347        4310.00\n",
       "2        12348        1437.24\n",
       "3        12349        1457.55\n",
       "4        12350         294.40"
      ]
     },
     "execution_count": 48,
     "metadata": {},
     "output_type": "execute_result"
    }
   ],
   "source": [
    "# Monetary\n",
    "df_monetary = df3[['customer_id', 'gross_revenue']].groupby('customer_id').sum().reset_index()\n",
    "df_monetary.head()"
   ]
  },
  {
   "cell_type": "code",
   "execution_count": 49,
   "id": "d59696ca",
   "metadata": {},
   "outputs": [
    {
     "data": {
      "text/html": [
       "<div>\n",
       "<style scoped>\n",
       "    .dataframe tbody tr th:only-of-type {\n",
       "        vertical-align: middle;\n",
       "    }\n",
       "\n",
       "    .dataframe tbody tr th {\n",
       "        vertical-align: top;\n",
       "    }\n",
       "\n",
       "    .dataframe thead th {\n",
       "        text-align: right;\n",
       "    }\n",
       "</style>\n",
       "<table border=\"1\" class=\"dataframe\">\n",
       "  <thead>\n",
       "    <tr style=\"text-align: right;\">\n",
       "      <th></th>\n",
       "      <th>customer_id</th>\n",
       "      <th>gross_revenue</th>\n",
       "    </tr>\n",
       "  </thead>\n",
       "  <tbody>\n",
       "    <tr>\n",
       "      <th>0</th>\n",
       "      <td>17850</td>\n",
       "      <td>5391.21</td>\n",
       "    </tr>\n",
       "    <tr>\n",
       "      <th>1</th>\n",
       "      <td>13047</td>\n",
       "      <td>3232.59</td>\n",
       "    </tr>\n",
       "    <tr>\n",
       "      <th>2</th>\n",
       "      <td>12583</td>\n",
       "      <td>6705.38</td>\n",
       "    </tr>\n",
       "    <tr>\n",
       "      <th>3</th>\n",
       "      <td>13748</td>\n",
       "      <td>948.25</td>\n",
       "    </tr>\n",
       "    <tr>\n",
       "      <th>4</th>\n",
       "      <td>15100</td>\n",
       "      <td>876.00</td>\n",
       "    </tr>\n",
       "  </tbody>\n",
       "</table>\n",
       "</div>"
      ],
      "text/plain": [
       "   customer_id  gross_revenue\n",
       "0        17850        5391.21\n",
       "1        13047        3232.59\n",
       "2        12583        6705.38\n",
       "3        13748         948.25\n",
       "4        15100         876.00"
      ]
     },
     "execution_count": 49,
     "metadata": {},
     "output_type": "execute_result"
    }
   ],
   "source": [
    "df_ref = df_ref.merge(df_monetary, how='left', on='customer_id')\n",
    "df_ref.head()"
   ]
  },
  {
   "cell_type": "markdown",
   "id": "a4c4bebc",
   "metadata": {},
   "source": [
    "### 3.1.2 Recency"
   ]
  },
  {
   "cell_type": "code",
   "execution_count": 50,
   "id": "a462b346",
   "metadata": {},
   "outputs": [
    {
     "data": {
      "text/plain": [
       "Timestamp('2017-12-07 00:00:00')"
      ]
     },
     "execution_count": 50,
     "metadata": {},
     "output_type": "execute_result"
    }
   ],
   "source": [
    "# registro mais recente do dataset\n",
    "df3['invoice_date'].max()"
   ]
  },
  {
   "cell_type": "code",
   "execution_count": 51,
   "id": "9a2ab7f9",
   "metadata": {},
   "outputs": [
    {
     "data": {
      "text/html": [
       "<div>\n",
       "<style scoped>\n",
       "    .dataframe tbody tr th:only-of-type {\n",
       "        vertical-align: middle;\n",
       "    }\n",
       "\n",
       "    .dataframe tbody tr th {\n",
       "        vertical-align: top;\n",
       "    }\n",
       "\n",
       "    .dataframe thead th {\n",
       "        text-align: right;\n",
       "    }\n",
       "</style>\n",
       "<table border=\"1\" class=\"dataframe\">\n",
       "  <thead>\n",
       "    <tr style=\"text-align: right;\">\n",
       "      <th></th>\n",
       "      <th>invoice_no</th>\n",
       "      <th>stock_code</th>\n",
       "      <th>quantity</th>\n",
       "      <th>invoice_date</th>\n",
       "      <th>unit_price</th>\n",
       "      <th>country</th>\n",
       "      <th>customer_id</th>\n",
       "      <th>gross_revenue</th>\n",
       "      <th>recency_in_days</th>\n",
       "    </tr>\n",
       "  </thead>\n",
       "  <tbody>\n",
       "    <tr>\n",
       "      <th>0</th>\n",
       "      <td>536365</td>\n",
       "      <td>85123A</td>\n",
       "      <td>6</td>\n",
       "      <td>2016-11-29</td>\n",
       "      <td>2.55</td>\n",
       "      <td>United Kingdom</td>\n",
       "      <td>17850</td>\n",
       "      <td>15.30</td>\n",
       "      <td>373</td>\n",
       "    </tr>\n",
       "    <tr>\n",
       "      <th>1</th>\n",
       "      <td>536365</td>\n",
       "      <td>71053</td>\n",
       "      <td>6</td>\n",
       "      <td>2016-11-29</td>\n",
       "      <td>3.39</td>\n",
       "      <td>United Kingdom</td>\n",
       "      <td>17850</td>\n",
       "      <td>20.34</td>\n",
       "      <td>373</td>\n",
       "    </tr>\n",
       "    <tr>\n",
       "      <th>2</th>\n",
       "      <td>536365</td>\n",
       "      <td>84406B</td>\n",
       "      <td>8</td>\n",
       "      <td>2016-11-29</td>\n",
       "      <td>2.75</td>\n",
       "      <td>United Kingdom</td>\n",
       "      <td>17850</td>\n",
       "      <td>22.00</td>\n",
       "      <td>373</td>\n",
       "    </tr>\n",
       "    <tr>\n",
       "      <th>3</th>\n",
       "      <td>536365</td>\n",
       "      <td>84029G</td>\n",
       "      <td>6</td>\n",
       "      <td>2016-11-29</td>\n",
       "      <td>3.39</td>\n",
       "      <td>United Kingdom</td>\n",
       "      <td>17850</td>\n",
       "      <td>20.34</td>\n",
       "      <td>373</td>\n",
       "    </tr>\n",
       "    <tr>\n",
       "      <th>4</th>\n",
       "      <td>536365</td>\n",
       "      <td>84029E</td>\n",
       "      <td>6</td>\n",
       "      <td>2016-11-29</td>\n",
       "      <td>3.39</td>\n",
       "      <td>United Kingdom</td>\n",
       "      <td>17850</td>\n",
       "      <td>20.34</td>\n",
       "      <td>373</td>\n",
       "    </tr>\n",
       "  </tbody>\n",
       "</table>\n",
       "</div>"
      ],
      "text/plain": [
       "  invoice_no stock_code  quantity invoice_date  unit_price         country  customer_id  gross_revenue  recency_in_days\n",
       "0     536365     85123A         6   2016-11-29        2.55  United Kingdom        17850          15.30              373\n",
       "1     536365      71053         6   2016-11-29        3.39  United Kingdom        17850          20.34              373\n",
       "2     536365     84406B         8   2016-11-29        2.75  United Kingdom        17850          22.00              373\n",
       "3     536365     84029G         6   2016-11-29        3.39  United Kingdom        17850          20.34              373\n",
       "4     536365     84029E         6   2016-11-29        3.39  United Kingdom        17850          20.34              373"
      ]
     },
     "execution_count": 51,
     "metadata": {},
     "output_type": "execute_result"
    }
   ],
   "source": [
    "# Recency (last day purchase)\n",
    "df3['recency_in_days'] = (df3['invoice_date'].max() - df3['invoice_date']).dt.days\n",
    "df3.head()"
   ]
  },
  {
   "cell_type": "code",
   "execution_count": 52,
   "id": "7151eeba",
   "metadata": {
    "scrolled": true
   },
   "outputs": [
    {
     "data": {
      "text/html": [
       "<div>\n",
       "<style scoped>\n",
       "    .dataframe tbody tr th:only-of-type {\n",
       "        vertical-align: middle;\n",
       "    }\n",
       "\n",
       "    .dataframe tbody tr th {\n",
       "        vertical-align: top;\n",
       "    }\n",
       "\n",
       "    .dataframe thead th {\n",
       "        text-align: right;\n",
       "    }\n",
       "</style>\n",
       "<table border=\"1\" class=\"dataframe\">\n",
       "  <thead>\n",
       "    <tr style=\"text-align: right;\">\n",
       "      <th></th>\n",
       "      <th>customer_id</th>\n",
       "      <th>recency_in_days</th>\n",
       "    </tr>\n",
       "  </thead>\n",
       "  <tbody>\n",
       "    <tr>\n",
       "      <th>0</th>\n",
       "      <td>12346</td>\n",
       "      <td>325</td>\n",
       "    </tr>\n",
       "    <tr>\n",
       "      <th>1</th>\n",
       "      <td>12347</td>\n",
       "      <td>2</td>\n",
       "    </tr>\n",
       "    <tr>\n",
       "      <th>2</th>\n",
       "      <td>12348</td>\n",
       "      <td>75</td>\n",
       "    </tr>\n",
       "    <tr>\n",
       "      <th>3</th>\n",
       "      <td>12349</td>\n",
       "      <td>18</td>\n",
       "    </tr>\n",
       "    <tr>\n",
       "      <th>4</th>\n",
       "      <td>12350</td>\n",
       "      <td>310</td>\n",
       "    </tr>\n",
       "  </tbody>\n",
       "</table>\n",
       "</div>"
      ],
      "text/plain": [
       "   customer_id  recency_in_days\n",
       "0        12346              325\n",
       "1        12347                2\n",
       "2        12348               75\n",
       "3        12349               18\n",
       "4        12350              310"
      ]
     },
     "execution_count": 52,
     "metadata": {},
     "output_type": "execute_result"
    }
   ],
   "source": [
    "df_recency = df3[['customer_id', 'recency_in_days']].groupby('customer_id').min().reset_index()\n",
    "df_recency.head()"
   ]
  },
  {
   "cell_type": "code",
   "execution_count": 53,
   "id": "d8eae28e",
   "metadata": {},
   "outputs": [
    {
     "data": {
      "text/html": [
       "<div>\n",
       "<style scoped>\n",
       "    .dataframe tbody tr th:only-of-type {\n",
       "        vertical-align: middle;\n",
       "    }\n",
       "\n",
       "    .dataframe tbody tr th {\n",
       "        vertical-align: top;\n",
       "    }\n",
       "\n",
       "    .dataframe thead th {\n",
       "        text-align: right;\n",
       "    }\n",
       "</style>\n",
       "<table border=\"1\" class=\"dataframe\">\n",
       "  <thead>\n",
       "    <tr style=\"text-align: right;\">\n",
       "      <th></th>\n",
       "      <th>customer_id</th>\n",
       "      <th>gross_revenue</th>\n",
       "      <th>recency_in_days</th>\n",
       "    </tr>\n",
       "  </thead>\n",
       "  <tbody>\n",
       "    <tr>\n",
       "      <th>0</th>\n",
       "      <td>17850</td>\n",
       "      <td>5391.21</td>\n",
       "      <td>372</td>\n",
       "    </tr>\n",
       "    <tr>\n",
       "      <th>1</th>\n",
       "      <td>13047</td>\n",
       "      <td>3232.59</td>\n",
       "      <td>56</td>\n",
       "    </tr>\n",
       "    <tr>\n",
       "      <th>2</th>\n",
       "      <td>12583</td>\n",
       "      <td>6705.38</td>\n",
       "      <td>2</td>\n",
       "    </tr>\n",
       "    <tr>\n",
       "      <th>3</th>\n",
       "      <td>13748</td>\n",
       "      <td>948.25</td>\n",
       "      <td>95</td>\n",
       "    </tr>\n",
       "    <tr>\n",
       "      <th>4</th>\n",
       "      <td>15100</td>\n",
       "      <td>876.00</td>\n",
       "      <td>333</td>\n",
       "    </tr>\n",
       "  </tbody>\n",
       "</table>\n",
       "</div>"
      ],
      "text/plain": [
       "   customer_id  gross_revenue  recency_in_days\n",
       "0        17850        5391.21              372\n",
       "1        13047        3232.59               56\n",
       "2        12583        6705.38                2\n",
       "3        13748         948.25               95\n",
       "4        15100         876.00              333"
      ]
     },
     "execution_count": 53,
     "metadata": {},
     "output_type": "execute_result"
    }
   ],
   "source": [
    "df_ref = df_ref.merge(df_recency, how='left', on='customer_id')\n",
    "df_ref.head()"
   ]
  },
  {
   "cell_type": "markdown",
   "id": "94c14d91",
   "metadata": {},
   "source": [
    "### 3.1.3 Quantity"
   ]
  },
  {
   "cell_type": "code",
   "execution_count": 54,
   "id": "01d9e38e",
   "metadata": {},
   "outputs": [
    {
     "data": {
      "text/html": [
       "<div>\n",
       "<style scoped>\n",
       "    .dataframe tbody tr th:only-of-type {\n",
       "        vertical-align: middle;\n",
       "    }\n",
       "\n",
       "    .dataframe tbody tr th {\n",
       "        vertical-align: top;\n",
       "    }\n",
       "\n",
       "    .dataframe thead th {\n",
       "        text-align: right;\n",
       "    }\n",
       "</style>\n",
       "<table border=\"1\" class=\"dataframe\">\n",
       "  <thead>\n",
       "    <tr style=\"text-align: right;\">\n",
       "      <th></th>\n",
       "      <th>customer_id</th>\n",
       "      <th>quantity</th>\n",
       "    </tr>\n",
       "  </thead>\n",
       "  <tbody>\n",
       "    <tr>\n",
       "      <th>0</th>\n",
       "      <td>12346</td>\n",
       "      <td>74215</td>\n",
       "    </tr>\n",
       "    <tr>\n",
       "      <th>1</th>\n",
       "      <td>12347</td>\n",
       "      <td>2458</td>\n",
       "    </tr>\n",
       "    <tr>\n",
       "      <th>2</th>\n",
       "      <td>12348</td>\n",
       "      <td>2332</td>\n",
       "    </tr>\n",
       "    <tr>\n",
       "      <th>3</th>\n",
       "      <td>12349</td>\n",
       "      <td>630</td>\n",
       "    </tr>\n",
       "    <tr>\n",
       "      <th>4</th>\n",
       "      <td>12350</td>\n",
       "      <td>196</td>\n",
       "    </tr>\n",
       "  </tbody>\n",
       "</table>\n",
       "</div>"
      ],
      "text/plain": [
       "   customer_id  quantity\n",
       "0        12346     74215\n",
       "1        12347      2458\n",
       "2        12348      2332\n",
       "3        12349       630\n",
       "4        12350       196"
      ]
     },
     "execution_count": 54,
     "metadata": {},
     "output_type": "execute_result"
    }
   ],
   "source": [
    "#Quantos produtos já comprou com a gente\n",
    "\n",
    "df_quantity = df3[['customer_id', 'quantity']].groupby('customer_id').sum().reset_index()\n",
    "df_quantity.columns = ['customer_id', 'quantity']\n",
    "df_quantity.head()"
   ]
  },
  {
   "cell_type": "code",
   "execution_count": 55,
   "id": "26a22334",
   "metadata": {},
   "outputs": [
    {
     "data": {
      "text/html": [
       "<div>\n",
       "<style scoped>\n",
       "    .dataframe tbody tr th:only-of-type {\n",
       "        vertical-align: middle;\n",
       "    }\n",
       "\n",
       "    .dataframe tbody tr th {\n",
       "        vertical-align: top;\n",
       "    }\n",
       "\n",
       "    .dataframe thead th {\n",
       "        text-align: right;\n",
       "    }\n",
       "</style>\n",
       "<table border=\"1\" class=\"dataframe\">\n",
       "  <thead>\n",
       "    <tr style=\"text-align: right;\">\n",
       "      <th></th>\n",
       "      <th>customer_id</th>\n",
       "      <th>gross_revenue</th>\n",
       "      <th>recency_in_days</th>\n",
       "      <th>quantity</th>\n",
       "    </tr>\n",
       "  </thead>\n",
       "  <tbody>\n",
       "    <tr>\n",
       "      <th>0</th>\n",
       "      <td>17850</td>\n",
       "      <td>5391.21</td>\n",
       "      <td>372</td>\n",
       "      <td>1733</td>\n",
       "    </tr>\n",
       "    <tr>\n",
       "      <th>1</th>\n",
       "      <td>13047</td>\n",
       "      <td>3232.59</td>\n",
       "      <td>56</td>\n",
       "      <td>1390</td>\n",
       "    </tr>\n",
       "    <tr>\n",
       "      <th>2</th>\n",
       "      <td>12583</td>\n",
       "      <td>6705.38</td>\n",
       "      <td>2</td>\n",
       "      <td>5028</td>\n",
       "    </tr>\n",
       "    <tr>\n",
       "      <th>3</th>\n",
       "      <td>13748</td>\n",
       "      <td>948.25</td>\n",
       "      <td>95</td>\n",
       "      <td>439</td>\n",
       "    </tr>\n",
       "    <tr>\n",
       "      <th>4</th>\n",
       "      <td>15100</td>\n",
       "      <td>876.00</td>\n",
       "      <td>333</td>\n",
       "      <td>80</td>\n",
       "    </tr>\n",
       "  </tbody>\n",
       "</table>\n",
       "</div>"
      ],
      "text/plain": [
       "   customer_id  gross_revenue  recency_in_days  quantity\n",
       "0        17850        5391.21              372      1733\n",
       "1        13047        3232.59               56      1390\n",
       "2        12583        6705.38                2      5028\n",
       "3        13748         948.25               95       439\n",
       "4        15100         876.00              333        80"
      ]
     },
     "execution_count": 55,
     "metadata": {},
     "output_type": "execute_result"
    }
   ],
   "source": [
    "df_ref = df_ref.merge(df_quantity, how='left', on='customer_id')\n",
    "df_ref.head()"
   ]
  },
  {
   "cell_type": "markdown",
   "id": "30dd7028",
   "metadata": {},
   "source": [
    "### 3.1.4 Purchases / quantity of invoices"
   ]
  },
  {
   "cell_type": "code",
   "execution_count": 56,
   "id": "1f2585a9",
   "metadata": {},
   "outputs": [
    {
     "data": {
      "text/html": [
       "<div>\n",
       "<style scoped>\n",
       "    .dataframe tbody tr th:only-of-type {\n",
       "        vertical-align: middle;\n",
       "    }\n",
       "\n",
       "    .dataframe tbody tr th {\n",
       "        vertical-align: top;\n",
       "    }\n",
       "\n",
       "    .dataframe thead th {\n",
       "        text-align: right;\n",
       "    }\n",
       "</style>\n",
       "<table border=\"1\" class=\"dataframe\">\n",
       "  <thead>\n",
       "    <tr style=\"text-align: right;\">\n",
       "      <th></th>\n",
       "      <th>customer_id</th>\n",
       "      <th>purchases</th>\n",
       "    </tr>\n",
       "  </thead>\n",
       "  <tbody>\n",
       "    <tr>\n",
       "      <th>0</th>\n",
       "      <td>12346</td>\n",
       "      <td>1</td>\n",
       "    </tr>\n",
       "    <tr>\n",
       "      <th>1</th>\n",
       "      <td>12347</td>\n",
       "      <td>7</td>\n",
       "    </tr>\n",
       "    <tr>\n",
       "      <th>2</th>\n",
       "      <td>12348</td>\n",
       "      <td>4</td>\n",
       "    </tr>\n",
       "    <tr>\n",
       "      <th>3</th>\n",
       "      <td>12349</td>\n",
       "      <td>1</td>\n",
       "    </tr>\n",
       "    <tr>\n",
       "      <th>4</th>\n",
       "      <td>12350</td>\n",
       "      <td>1</td>\n",
       "    </tr>\n",
       "  </tbody>\n",
       "</table>\n",
       "</div>"
      ],
      "text/plain": [
       "   customer_id  purchases\n",
       "0        12346          1\n",
       "1        12347          7\n",
       "2        12348          4\n",
       "3        12349          1\n",
       "4        12350          1"
      ]
     },
     "execution_count": 56,
     "metadata": {},
     "output_type": "execute_result"
    }
   ],
   "source": [
    "#Quantas compras o cliente já realizou\n",
    "\n",
    "df_purchases = df3[['customer_id', 'invoice_no']].drop_duplicates().groupby('customer_id').count().reset_index()\n",
    "df_purchases.columns = ['customer_id', 'purchases']\n",
    "df_purchases.head()"
   ]
  },
  {
   "cell_type": "code",
   "execution_count": 57,
   "id": "8da4d2a6",
   "metadata": {},
   "outputs": [
    {
     "data": {
      "text/html": [
       "<div>\n",
       "<style scoped>\n",
       "    .dataframe tbody tr th:only-of-type {\n",
       "        vertical-align: middle;\n",
       "    }\n",
       "\n",
       "    .dataframe tbody tr th {\n",
       "        vertical-align: top;\n",
       "    }\n",
       "\n",
       "    .dataframe thead th {\n",
       "        text-align: right;\n",
       "    }\n",
       "</style>\n",
       "<table border=\"1\" class=\"dataframe\">\n",
       "  <thead>\n",
       "    <tr style=\"text-align: right;\">\n",
       "      <th></th>\n",
       "      <th>customer_id</th>\n",
       "      <th>gross_revenue</th>\n",
       "      <th>recency_in_days</th>\n",
       "      <th>quantity</th>\n",
       "      <th>purchases</th>\n",
       "    </tr>\n",
       "  </thead>\n",
       "  <tbody>\n",
       "    <tr>\n",
       "      <th>0</th>\n",
       "      <td>17850</td>\n",
       "      <td>5391.21</td>\n",
       "      <td>372</td>\n",
       "      <td>1733</td>\n",
       "      <td>34</td>\n",
       "    </tr>\n",
       "    <tr>\n",
       "      <th>1</th>\n",
       "      <td>13047</td>\n",
       "      <td>3232.59</td>\n",
       "      <td>56</td>\n",
       "      <td>1390</td>\n",
       "      <td>9</td>\n",
       "    </tr>\n",
       "    <tr>\n",
       "      <th>2</th>\n",
       "      <td>12583</td>\n",
       "      <td>6705.38</td>\n",
       "      <td>2</td>\n",
       "      <td>5028</td>\n",
       "      <td>15</td>\n",
       "    </tr>\n",
       "    <tr>\n",
       "      <th>3</th>\n",
       "      <td>13748</td>\n",
       "      <td>948.25</td>\n",
       "      <td>95</td>\n",
       "      <td>439</td>\n",
       "      <td>5</td>\n",
       "    </tr>\n",
       "    <tr>\n",
       "      <th>4</th>\n",
       "      <td>15100</td>\n",
       "      <td>876.00</td>\n",
       "      <td>333</td>\n",
       "      <td>80</td>\n",
       "      <td>3</td>\n",
       "    </tr>\n",
       "  </tbody>\n",
       "</table>\n",
       "</div>"
      ],
      "text/plain": [
       "   customer_id  gross_revenue  recency_in_days  quantity  purchases\n",
       "0        17850        5391.21              372      1733         34\n",
       "1        13047        3232.59               56      1390          9\n",
       "2        12583        6705.38                2      5028         15\n",
       "3        13748         948.25               95       439          5\n",
       "4        15100         876.00              333        80          3"
      ]
     },
     "execution_count": 57,
     "metadata": {},
     "output_type": "execute_result"
    }
   ],
   "source": [
    "df_ref = df_ref.merge(df_purchases, on='customer_id', how='left')\n",
    "df_ref.head()"
   ]
  },
  {
   "cell_type": "markdown",
   "id": "5d976d76",
   "metadata": {},
   "source": [
    "### 3.1.5 Avg Ticket"
   ]
  },
  {
   "cell_type": "code",
   "execution_count": 58,
   "id": "dacb5cdd",
   "metadata": {
    "scrolled": true
   },
   "outputs": [
    {
     "data": {
      "text/html": [
       "<div>\n",
       "<style scoped>\n",
       "    .dataframe tbody tr th:only-of-type {\n",
       "        vertical-align: middle;\n",
       "    }\n",
       "\n",
       "    .dataframe tbody tr th {\n",
       "        vertical-align: top;\n",
       "    }\n",
       "\n",
       "    .dataframe thead th {\n",
       "        text-align: right;\n",
       "    }\n",
       "</style>\n",
       "<table border=\"1\" class=\"dataframe\">\n",
       "  <thead>\n",
       "    <tr style=\"text-align: right;\">\n",
       "      <th></th>\n",
       "      <th>customer_id</th>\n",
       "      <th>gross_revenue</th>\n",
       "      <th>recency_in_days</th>\n",
       "      <th>quantity</th>\n",
       "      <th>purchases</th>\n",
       "      <th>avg_ticket</th>\n",
       "    </tr>\n",
       "  </thead>\n",
       "  <tbody>\n",
       "    <tr>\n",
       "      <th>0</th>\n",
       "      <td>17850</td>\n",
       "      <td>5391.21</td>\n",
       "      <td>372</td>\n",
       "      <td>1733</td>\n",
       "      <td>34</td>\n",
       "      <td>18.152222</td>\n",
       "    </tr>\n",
       "    <tr>\n",
       "      <th>1</th>\n",
       "      <td>13047</td>\n",
       "      <td>3232.59</td>\n",
       "      <td>56</td>\n",
       "      <td>1390</td>\n",
       "      <td>9</td>\n",
       "      <td>18.904035</td>\n",
       "    </tr>\n",
       "    <tr>\n",
       "      <th>2</th>\n",
       "      <td>12583</td>\n",
       "      <td>6705.38</td>\n",
       "      <td>2</td>\n",
       "      <td>5028</td>\n",
       "      <td>15</td>\n",
       "      <td>28.902500</td>\n",
       "    </tr>\n",
       "    <tr>\n",
       "      <th>3</th>\n",
       "      <td>13748</td>\n",
       "      <td>948.25</td>\n",
       "      <td>95</td>\n",
       "      <td>439</td>\n",
       "      <td>5</td>\n",
       "      <td>33.866071</td>\n",
       "    </tr>\n",
       "    <tr>\n",
       "      <th>4</th>\n",
       "      <td>15100</td>\n",
       "      <td>876.00</td>\n",
       "      <td>333</td>\n",
       "      <td>80</td>\n",
       "      <td>3</td>\n",
       "      <td>292.000000</td>\n",
       "    </tr>\n",
       "  </tbody>\n",
       "</table>\n",
       "</div>"
      ],
      "text/plain": [
       "   customer_id  gross_revenue  recency_in_days  quantity  purchases  avg_ticket\n",
       "0        17850        5391.21              372      1733         34   18.152222\n",
       "1        13047        3232.59               56      1390          9   18.904035\n",
       "2        12583        6705.38                2      5028         15   28.902500\n",
       "3        13748         948.25               95       439          5   33.866071\n",
       "4        15100         876.00              333        80          3  292.000000"
      ]
     },
     "execution_count": 58,
     "metadata": {},
     "output_type": "execute_result"
    }
   ],
   "source": [
    "df_avg_ticket = df3[['customer_id', 'gross_revenue']].groupby('customer_id').mean().reset_index().rename(columns={'gross_revenue':'avg_ticket'})\n",
    "df_ref = df_ref.merge(df_avg_ticket, on='customer_id', how='left')\n",
    "df_ref.head()"
   ]
  },
  {
   "cell_type": "markdown",
   "id": "04c95566",
   "metadata": {},
   "source": [
    "### 3.1.6 Avg Recency Days"
   ]
  },
  {
   "cell_type": "code",
   "execution_count": 59,
   "id": "a4da7602",
   "metadata": {},
   "outputs": [
    {
     "data": {
      "text/html": [
       "<div>\n",
       "<style scoped>\n",
       "    .dataframe tbody tr th:only-of-type {\n",
       "        vertical-align: middle;\n",
       "    }\n",
       "\n",
       "    .dataframe tbody tr th {\n",
       "        vertical-align: top;\n",
       "    }\n",
       "\n",
       "    .dataframe thead th {\n",
       "        text-align: right;\n",
       "    }\n",
       "</style>\n",
       "<table border=\"1\" class=\"dataframe\">\n",
       "  <thead>\n",
       "    <tr style=\"text-align: right;\">\n",
       "      <th></th>\n",
       "      <th>customer_id</th>\n",
       "      <th>gross_revenue</th>\n",
       "      <th>recency_in_days</th>\n",
       "      <th>quantity</th>\n",
       "      <th>purchases</th>\n",
       "      <th>avg_ticket</th>\n",
       "      <th>avg_recency_days</th>\n",
       "    </tr>\n",
       "  </thead>\n",
       "  <tbody>\n",
       "    <tr>\n",
       "      <th>0</th>\n",
       "      <td>17850</td>\n",
       "      <td>5391.21</td>\n",
       "      <td>372</td>\n",
       "      <td>1733</td>\n",
       "      <td>34</td>\n",
       "      <td>18.152222</td>\n",
       "      <td>1.000000</td>\n",
       "    </tr>\n",
       "    <tr>\n",
       "      <th>1</th>\n",
       "      <td>13047</td>\n",
       "      <td>3232.59</td>\n",
       "      <td>56</td>\n",
       "      <td>1390</td>\n",
       "      <td>9</td>\n",
       "      <td>18.904035</td>\n",
       "      <td>52.833333</td>\n",
       "    </tr>\n",
       "    <tr>\n",
       "      <th>2</th>\n",
       "      <td>12583</td>\n",
       "      <td>6705.38</td>\n",
       "      <td>2</td>\n",
       "      <td>5028</td>\n",
       "      <td>15</td>\n",
       "      <td>28.902500</td>\n",
       "      <td>26.500000</td>\n",
       "    </tr>\n",
       "    <tr>\n",
       "      <th>3</th>\n",
       "      <td>13748</td>\n",
       "      <td>948.25</td>\n",
       "      <td>95</td>\n",
       "      <td>439</td>\n",
       "      <td>5</td>\n",
       "      <td>33.866071</td>\n",
       "      <td>92.666667</td>\n",
       "    </tr>\n",
       "    <tr>\n",
       "      <th>4</th>\n",
       "      <td>15100</td>\n",
       "      <td>876.00</td>\n",
       "      <td>333</td>\n",
       "      <td>80</td>\n",
       "      <td>3</td>\n",
       "      <td>292.000000</td>\n",
       "      <td>20.000000</td>\n",
       "    </tr>\n",
       "  </tbody>\n",
       "</table>\n",
       "</div>"
      ],
      "text/plain": [
       "   customer_id  gross_revenue  recency_in_days  quantity  purchases  avg_ticket  avg_recency_days\n",
       "0        17850        5391.21              372      1733         34   18.152222          1.000000\n",
       "1        13047        3232.59               56      1390          9   18.904035         52.833333\n",
       "2        12583        6705.38                2      5028         15   28.902500         26.500000\n",
       "3        13748         948.25               95       439          5   33.866071         92.666667\n",
       "4        15100         876.00              333        80          3  292.000000         20.000000"
      ]
     },
     "execution_count": 59,
     "metadata": {},
     "output_type": "execute_result"
    }
   ],
   "source": [
    "df_aux = df3[['customer_id', 'invoice_date']].drop_duplicates().sort_values(['customer_id', 'invoice_date'])\n",
    "df_aux['previous_customer_id'] = df_aux['customer_id'].shift() # move to the line below\n",
    "df_aux['previous_invoice_date'] = df_aux['invoice_date'].shift()\n",
    "\n",
    "df_aux['avg_recency_days'] = df_aux.apply(lambda x: (x['invoice_date'] - x['previous_invoice_date']).days if x['customer_id'] == x['previous_customer_id'] else\n",
    "            np.nan, axis=1) # if customer_id = previous_customer_id then the difference between the purchases is calculated\n",
    "\n",
    "df_aux = df_aux.drop(['invoice_date', 'previous_customer_id', 'previous_invoice_date'], axis=1).dropna()\n",
    "\n",
    "# averge recency\n",
    "df_avg_recency_days = df_aux.groupby(['customer_id']).mean().reset_index()\n",
    "\n",
    "# merge\n",
    "df_ref = df_ref.merge(df_avg_recency_days, how='left', on='customer_id')\n",
    "df_ref.head() "
   ]
  },
  {
   "cell_type": "code",
   "execution_count": 60,
   "id": "78ef9237",
   "metadata": {},
   "outputs": [
    {
     "data": {
      "text/plain": [
       "customer_id            0\n",
       "gross_revenue          0\n",
       "recency_in_days        0\n",
       "quantity               0\n",
       "purchases              0\n",
       "avg_ticket             0\n",
       "avg_recency_days    2927\n",
       "dtype: int64"
      ]
     },
     "execution_count": 60,
     "metadata": {},
     "output_type": "execute_result"
    }
   ],
   "source": [
    "df_ref.isna().sum()"
   ]
  },
  {
   "cell_type": "markdown",
   "id": "b07745db",
   "metadata": {},
   "source": [
    "### 3.1.7 Frequency Purchase"
   ]
  },
  {
   "cell_type": "code",
   "execution_count": 61,
   "id": "979e04ab",
   "metadata": {},
   "outputs": [
    {
     "data": {
      "text/html": [
       "<div>\n",
       "<style scoped>\n",
       "    .dataframe tbody tr th:only-of-type {\n",
       "        vertical-align: middle;\n",
       "    }\n",
       "\n",
       "    .dataframe tbody tr th {\n",
       "        vertical-align: top;\n",
       "    }\n",
       "\n",
       "    .dataframe thead th {\n",
       "        text-align: right;\n",
       "    }\n",
       "</style>\n",
       "<table border=\"1\" class=\"dataframe\">\n",
       "  <thead>\n",
       "    <tr style=\"text-align: right;\">\n",
       "      <th></th>\n",
       "      <th>customer_id</th>\n",
       "      <th>gross_revenue</th>\n",
       "      <th>recency_in_days</th>\n",
       "      <th>quantity</th>\n",
       "      <th>purchases</th>\n",
       "      <th>avg_ticket</th>\n",
       "      <th>avg_recency_days</th>\n",
       "      <th>max_</th>\n",
       "      <th>min_</th>\n",
       "      <th>days_</th>\n",
       "      <th>buy_</th>\n",
       "      <th>frequency</th>\n",
       "    </tr>\n",
       "  </thead>\n",
       "  <tbody>\n",
       "    <tr>\n",
       "      <th>0</th>\n",
       "      <td>17850</td>\n",
       "      <td>5391.21</td>\n",
       "      <td>372</td>\n",
       "      <td>1733</td>\n",
       "      <td>34</td>\n",
       "      <td>18.152222</td>\n",
       "      <td>1.000000</td>\n",
       "      <td>2016-11-30</td>\n",
       "      <td>2016-11-29</td>\n",
       "      <td>2</td>\n",
       "      <td>34</td>\n",
       "      <td>17.000000</td>\n",
       "    </tr>\n",
       "    <tr>\n",
       "      <th>1</th>\n",
       "      <td>13047</td>\n",
       "      <td>3232.59</td>\n",
       "      <td>56</td>\n",
       "      <td>1390</td>\n",
       "      <td>9</td>\n",
       "      <td>18.904035</td>\n",
       "      <td>52.833333</td>\n",
       "      <td>2017-10-12</td>\n",
       "      <td>2016-11-29</td>\n",
       "      <td>318</td>\n",
       "      <td>9</td>\n",
       "      <td>0.028302</td>\n",
       "    </tr>\n",
       "    <tr>\n",
       "      <th>2</th>\n",
       "      <td>12583</td>\n",
       "      <td>6705.38</td>\n",
       "      <td>2</td>\n",
       "      <td>5028</td>\n",
       "      <td>15</td>\n",
       "      <td>28.902500</td>\n",
       "      <td>26.500000</td>\n",
       "      <td>2017-12-05</td>\n",
       "      <td>2016-11-29</td>\n",
       "      <td>372</td>\n",
       "      <td>15</td>\n",
       "      <td>0.040323</td>\n",
       "    </tr>\n",
       "    <tr>\n",
       "      <th>3</th>\n",
       "      <td>13748</td>\n",
       "      <td>948.25</td>\n",
       "      <td>95</td>\n",
       "      <td>439</td>\n",
       "      <td>5</td>\n",
       "      <td>33.866071</td>\n",
       "      <td>92.666667</td>\n",
       "      <td>2017-09-03</td>\n",
       "      <td>2016-11-29</td>\n",
       "      <td>279</td>\n",
       "      <td>5</td>\n",
       "      <td>0.017921</td>\n",
       "    </tr>\n",
       "    <tr>\n",
       "      <th>4</th>\n",
       "      <td>15100</td>\n",
       "      <td>876.00</td>\n",
       "      <td>333</td>\n",
       "      <td>80</td>\n",
       "      <td>3</td>\n",
       "      <td>292.000000</td>\n",
       "      <td>20.000000</td>\n",
       "      <td>2017-01-08</td>\n",
       "      <td>2016-11-29</td>\n",
       "      <td>41</td>\n",
       "      <td>3</td>\n",
       "      <td>0.073171</td>\n",
       "    </tr>\n",
       "  </tbody>\n",
       "</table>\n",
       "</div>"
      ],
      "text/plain": [
       "   customer_id  gross_revenue  recency_in_days  quantity  purchases  avg_ticket  avg_recency_days       max_       min_  days_  buy_  frequency\n",
       "0        17850        5391.21              372      1733         34   18.152222          1.000000 2016-11-30 2016-11-29      2    34  17.000000\n",
       "1        13047        3232.59               56      1390          9   18.904035         52.833333 2017-10-12 2016-11-29    318     9   0.028302\n",
       "2        12583        6705.38                2      5028         15   28.902500         26.500000 2017-12-05 2016-11-29    372    15   0.040323\n",
       "3        13748         948.25               95       439          5   33.866071         92.666667 2017-09-03 2016-11-29    279     5   0.017921\n",
       "4        15100         876.00              333        80          3  292.000000         20.000000 2017-01-08 2016-11-29     41     3   0.073171"
      ]
     },
     "execution_count": 61,
     "metadata": {},
     "output_type": "execute_result"
    }
   ],
   "source": [
    "# entre o primeiro e último dia de compra do cliente, quantas compras ele fez?\n",
    "df_frequency_purchase = df3[['customer_id', 'invoice_no', 'invoice_date']].drop_duplicates().groupby(['customer_id']).agg(max_ = ('invoice_date', 'max'), \n",
    "                                                                                             min_ = ('invoice_date', 'min'),\n",
    "                                                                                             days_ = ('invoice_date', lambda x: ((x.max() - x.min()).days) + 1 ),\n",
    "                                                                                             buy_ = ('invoice_no', 'count')).reset_index() # calculate min and max invoice_date and how many products the customer bought\n",
    "\n",
    "df_frequency_purchase['frequency'] = df_frequency_purchase[['days_', 'buy_']].apply(lambda x: x['buy_']/x['days_'] if x['days_'] >0 else 0, axis=1)\n",
    "\n",
    "df_ref = df_ref.merge(df_frequency_purchase, how='left', on='customer_id')\n",
    "df_ref.head()"
   ]
  },
  {
   "cell_type": "code",
   "execution_count": 62,
   "id": "b0e2b0a7",
   "metadata": {},
   "outputs": [
    {
     "data": {
      "text/html": [
       "<div>\n",
       "<style scoped>\n",
       "    .dataframe tbody tr th:only-of-type {\n",
       "        vertical-align: middle;\n",
       "    }\n",
       "\n",
       "    .dataframe tbody tr th {\n",
       "        vertical-align: top;\n",
       "    }\n",
       "\n",
       "    .dataframe thead th {\n",
       "        text-align: right;\n",
       "    }\n",
       "</style>\n",
       "<table border=\"1\" class=\"dataframe\">\n",
       "  <thead>\n",
       "    <tr style=\"text-align: right;\">\n",
       "      <th></th>\n",
       "      <th>customer_id</th>\n",
       "      <th>max_</th>\n",
       "      <th>min_</th>\n",
       "      <th>days_</th>\n",
       "      <th>buy_</th>\n",
       "      <th>frequency</th>\n",
       "    </tr>\n",
       "  </thead>\n",
       "  <tbody>\n",
       "    <tr>\n",
       "      <th>4008</th>\n",
       "      <td>17850</td>\n",
       "      <td>2016-11-30</td>\n",
       "      <td>2016-11-29</td>\n",
       "      <td>2</td>\n",
       "      <td>34</td>\n",
       "      <td>17.0</td>\n",
       "    </tr>\n",
       "    <tr>\n",
       "      <th>2762</th>\n",
       "      <td>16120</td>\n",
       "      <td>2017-10-09</td>\n",
       "      <td>2017-10-09</td>\n",
       "      <td>1</td>\n",
       "      <td>4</td>\n",
       "      <td>4.0</td>\n",
       "    </tr>\n",
       "    <tr>\n",
       "      <th>2621</th>\n",
       "      <td>15920</td>\n",
       "      <td>2017-07-06</td>\n",
       "      <td>2017-07-06</td>\n",
       "      <td>1</td>\n",
       "      <td>3</td>\n",
       "      <td>3.0</td>\n",
       "    </tr>\n",
       "    <tr>\n",
       "      <th>4220</th>\n",
       "      <td>18139</td>\n",
       "      <td>2017-11-20</td>\n",
       "      <td>2017-11-19</td>\n",
       "      <td>2</td>\n",
       "      <td>6</td>\n",
       "      <td>3.0</td>\n",
       "    </tr>\n",
       "    <tr>\n",
       "      <th>2673</th>\n",
       "      <td>16000</td>\n",
       "      <td>2017-12-05</td>\n",
       "      <td>2017-12-05</td>\n",
       "      <td>1</td>\n",
       "      <td>3</td>\n",
       "      <td>3.0</td>\n",
       "    </tr>\n",
       "  </tbody>\n",
       "</table>\n",
       "</div>"
      ],
      "text/plain": [
       "      customer_id       max_       min_  days_  buy_  frequency\n",
       "4008        17850 2016-11-30 2016-11-29      2    34       17.0\n",
       "2762        16120 2017-10-09 2017-10-09      1     4        4.0\n",
       "2621        15920 2017-07-06 2017-07-06      1     3        3.0\n",
       "4220        18139 2017-11-20 2017-11-19      2     6        3.0\n",
       "2673        16000 2017-12-05 2017-12-05      1     3        3.0"
      ]
     },
     "execution_count": 62,
     "metadata": {},
     "output_type": "execute_result"
    }
   ],
   "source": [
    "df_frequency_purchase.sort_values('frequency', ascending=False).head()"
   ]
  },
  {
   "cell_type": "markdown",
   "id": "e873ce2e",
   "metadata": {},
   "source": [
    "## 4.0. EDA (Exploratory Data Analysis)"
   ]
  },
  {
   "cell_type": "code",
   "execution_count": 63,
   "id": "76ad7c96",
   "metadata": {},
   "outputs": [
    {
     "data": {
      "text/html": [
       "<div>\n",
       "<style scoped>\n",
       "    .dataframe tbody tr th:only-of-type {\n",
       "        vertical-align: middle;\n",
       "    }\n",
       "\n",
       "    .dataframe tbody tr th {\n",
       "        vertical-align: top;\n",
       "    }\n",
       "\n",
       "    .dataframe thead th {\n",
       "        text-align: right;\n",
       "    }\n",
       "</style>\n",
       "<table border=\"1\" class=\"dataframe\">\n",
       "  <thead>\n",
       "    <tr style=\"text-align: right;\">\n",
       "      <th></th>\n",
       "      <th>customer_id</th>\n",
       "      <th>gross_revenue</th>\n",
       "      <th>recency_in_days</th>\n",
       "      <th>quantity</th>\n",
       "      <th>purchases</th>\n",
       "      <th>avg_ticket</th>\n",
       "      <th>avg_recency_days</th>\n",
       "      <th>max_</th>\n",
       "      <th>min_</th>\n",
       "      <th>days_</th>\n",
       "      <th>buy_</th>\n",
       "      <th>frequency</th>\n",
       "    </tr>\n",
       "  </thead>\n",
       "  <tbody>\n",
       "    <tr>\n",
       "      <th>0</th>\n",
       "      <td>17850</td>\n",
       "      <td>5391.21</td>\n",
       "      <td>372</td>\n",
       "      <td>1733</td>\n",
       "      <td>34</td>\n",
       "      <td>18.152222</td>\n",
       "      <td>1.000000</td>\n",
       "      <td>2016-11-30</td>\n",
       "      <td>2016-11-29</td>\n",
       "      <td>2</td>\n",
       "      <td>34</td>\n",
       "      <td>17.000000</td>\n",
       "    </tr>\n",
       "    <tr>\n",
       "      <th>1</th>\n",
       "      <td>13047</td>\n",
       "      <td>3232.59</td>\n",
       "      <td>56</td>\n",
       "      <td>1390</td>\n",
       "      <td>9</td>\n",
       "      <td>18.904035</td>\n",
       "      <td>52.833333</td>\n",
       "      <td>2017-10-12</td>\n",
       "      <td>2016-11-29</td>\n",
       "      <td>318</td>\n",
       "      <td>9</td>\n",
       "      <td>0.028302</td>\n",
       "    </tr>\n",
       "  </tbody>\n",
       "</table>\n",
       "</div>"
      ],
      "text/plain": [
       "   customer_id  gross_revenue  recency_in_days  quantity  purchases  avg_ticket  avg_recency_days       max_       min_  days_  buy_  frequency\n",
       "0        17850        5391.21              372      1733         34   18.152222          1.000000 2016-11-30 2016-11-29      2    34  17.000000\n",
       "1        13047        3232.59               56      1390          9   18.904035         52.833333 2017-10-12 2016-11-29    318     9   0.028302"
      ]
     },
     "execution_count": 63,
     "metadata": {},
     "output_type": "execute_result"
    }
   ],
   "source": [
    "df_ref.head(2)"
   ]
  },
  {
   "cell_type": "code",
   "execution_count": 64,
   "id": "3b098d66",
   "metadata": {},
   "outputs": [
    {
     "data": {
      "text/plain": [
       "customer_id            0\n",
       "gross_revenue          0\n",
       "recency_in_days        0\n",
       "quantity               0\n",
       "purchases              0\n",
       "avg_ticket             0\n",
       "avg_recency_days    2927\n",
       "max_                   0\n",
       "min_                   0\n",
       "days_                  0\n",
       "buy_                   0\n",
       "frequency              0\n",
       "dtype: int64"
      ]
     },
     "execution_count": 64,
     "metadata": {},
     "output_type": "execute_result"
    }
   ],
   "source": [
    "df_ref.isna().sum()"
   ]
  },
  {
   "cell_type": "code",
   "execution_count": 65,
   "id": "5c6b9c40",
   "metadata": {},
   "outputs": [],
   "source": [
    "df4 = df_ref.dropna()\n",
    "df4 = df4.drop(['max_', 'min_', 'days_', 'buy_'], axis=1)"
   ]
  },
  {
   "cell_type": "markdown",
   "id": "d8a0238c",
   "metadata": {},
   "source": [
    "## 4.1. Univariate Analysis"
   ]
  },
  {
   "cell_type": "markdown",
   "id": "8705b6eb",
   "metadata": {},
   "source": [
    "1. Métricas:\n",
    "    - Mín, max e range\n",
    "    - Média e mediana\n",
    "    - Desvio padrão e variância\n",
    "    - Coeficiente de variação (CV): desvio padrão / média para identificar a dispersão dos dados em relação à média\n",
    "    - Distribuição\n",
    "    \n",
    "Vamos olhar essas métricas para cada feature no ProfileReport a fim de entendê-las melhor e identificar outliers"
   ]
  },
  {
   "cell_type": "code",
   "execution_count": 66,
   "id": "30248428",
   "metadata": {},
   "outputs": [
    {
     "data": {
      "application/vnd.jupyter.widget-view+json": {
       "model_id": "6b0d2df57955450eb0b4ccaa2c4fe614",
       "version_major": 2,
       "version_minor": 0
      },
      "text/plain": [
       "Summarize dataset:   0%|          | 0/5 [00:00<?, ?it/s]"
      ]
     },
     "metadata": {},
     "output_type": "display_data"
    },
    {
     "data": {
      "application/vnd.jupyter.widget-view+json": {
       "model_id": "83215cb4bb8246bead115d30f95b70d2",
       "version_major": 2,
       "version_minor": 0
      },
      "text/plain": [
       "Generate report structure:   0%|          | 0/1 [00:00<?, ?it/s]"
      ]
     },
     "metadata": {},
     "output_type": "display_data"
    },
    {
     "data": {
      "application/vnd.jupyter.widget-view+json": {
       "model_id": "d5a3c1b0027f40999dee17c9eb0366ba",
       "version_major": 2,
       "version_minor": 0
      },
      "text/plain": [
       "Render HTML:   0%|          | 0/1 [00:00<?, ?it/s]"
      ]
     },
     "metadata": {},
     "output_type": "display_data"
    },
    {
     "data": {
      "application/vnd.jupyter.widget-view+json": {
       "model_id": "3f8ec82cd9144549b95df6a48981e50d",
       "version_major": 2,
       "version_minor": 0
      },
      "text/plain": [
       "Export report to file:   0%|          | 0/1 [00:00<?, ?it/s]"
      ]
     },
     "metadata": {},
     "output_type": "display_data"
    }
   ],
   "source": [
    "profile = ProfileReport (df4)\n",
    "profile.to_file('output.html')"
   ]
  },
  {
   "cell_type": "code",
   "execution_count": 67,
   "id": "f8e30690",
   "metadata": {},
   "outputs": [
    {
     "data": {
      "text/html": [
       "<div>\n",
       "<style scoped>\n",
       "    .dataframe tbody tr th:only-of-type {\n",
       "        vertical-align: middle;\n",
       "    }\n",
       "\n",
       "    .dataframe tbody tr th {\n",
       "        vertical-align: top;\n",
       "    }\n",
       "\n",
       "    .dataframe thead th {\n",
       "        text-align: right;\n",
       "    }\n",
       "</style>\n",
       "<table border=\"1\" class=\"dataframe\">\n",
       "  <thead>\n",
       "    <tr style=\"text-align: right;\">\n",
       "      <th></th>\n",
       "      <th>customer_id</th>\n",
       "      <th>gross_revenue</th>\n",
       "      <th>recency_in_days</th>\n",
       "      <th>quantity</th>\n",
       "      <th>purchases</th>\n",
       "      <th>avg_ticket</th>\n",
       "      <th>avg_recency_days</th>\n",
       "      <th>frequency</th>\n",
       "    </tr>\n",
       "  </thead>\n",
       "  <tbody>\n",
       "    <tr>\n",
       "      <th>952</th>\n",
       "      <td>14646</td>\n",
       "      <td>279138.02</td>\n",
       "      <td>1</td>\n",
       "      <td>196844</td>\n",
       "      <td>72</td>\n",
       "      <td>135.503893</td>\n",
       "      <td>8.022727</td>\n",
       "      <td>0.203390</td>\n",
       "    </tr>\n",
       "    <tr>\n",
       "      <th>463</th>\n",
       "      <td>18102</td>\n",
       "      <td>259657.30</td>\n",
       "      <td>0</td>\n",
       "      <td>64124</td>\n",
       "      <td>60</td>\n",
       "      <td>602.453132</td>\n",
       "      <td>14.680000</td>\n",
       "      <td>0.163043</td>\n",
       "    </tr>\n",
       "    <tr>\n",
       "      <th>405</th>\n",
       "      <td>17450</td>\n",
       "      <td>194550.79</td>\n",
       "      <td>8</td>\n",
       "      <td>69993</td>\n",
       "      <td>46</td>\n",
       "      <td>577.302047</td>\n",
       "      <td>13.807692</td>\n",
       "      <td>0.127778</td>\n",
       "    </tr>\n",
       "    <tr>\n",
       "      <th>3266</th>\n",
       "      <td>16446</td>\n",
       "      <td>168472.50</td>\n",
       "      <td>0</td>\n",
       "      <td>80997</td>\n",
       "      <td>2</td>\n",
       "      <td>56157.500000</td>\n",
       "      <td>205.000000</td>\n",
       "      <td>0.009709</td>\n",
       "    </tr>\n",
       "    <tr>\n",
       "      <th>65</th>\n",
       "      <td>14911</td>\n",
       "      <td>140438.72</td>\n",
       "      <td>1</td>\n",
       "      <td>79963</td>\n",
       "      <td>199</td>\n",
       "      <td>24.768734</td>\n",
       "      <td>2.861538</td>\n",
       "      <td>0.533512</td>\n",
       "    </tr>\n",
       "  </tbody>\n",
       "</table>\n",
       "</div>"
      ],
      "text/plain": [
       "      customer_id  gross_revenue  recency_in_days  quantity  purchases    avg_ticket  avg_recency_days  frequency\n",
       "952         14646      279138.02                1    196844         72    135.503893          8.022727   0.203390\n",
       "463         18102      259657.30                0     64124         60    602.453132         14.680000   0.163043\n",
       "405         17450      194550.79                8     69993         46    577.302047         13.807692   0.127778\n",
       "3266        16446      168472.50                0     80997          2  56157.500000        205.000000   0.009709\n",
       "65          14911      140438.72                1     79963        199     24.768734          2.861538   0.533512"
      ]
     },
     "execution_count": 67,
     "metadata": {},
     "output_type": "execute_result"
    }
   ],
   "source": [
    "# Gross revnue\n",
    "\n",
    "df4.sort_values('gross_revenue', ascending=False).head()"
   ]
  },
  {
   "cell_type": "code",
   "execution_count": 68,
   "id": "61664839",
   "metadata": {},
   "outputs": [
    {
     "data": {
      "text/html": [
       "<div>\n",
       "<style scoped>\n",
       "    .dataframe tbody tr th:only-of-type {\n",
       "        vertical-align: middle;\n",
       "    }\n",
       "\n",
       "    .dataframe tbody tr th {\n",
       "        vertical-align: top;\n",
       "    }\n",
       "\n",
       "    .dataframe thead th {\n",
       "        text-align: right;\n",
       "    }\n",
       "</style>\n",
       "<table border=\"1\" class=\"dataframe\">\n",
       "  <thead>\n",
       "    <tr style=\"text-align: right;\">\n",
       "      <th></th>\n",
       "      <th>customer_id</th>\n",
       "      <th>gross_revenue</th>\n",
       "      <th>recency_in_days</th>\n",
       "      <th>quantity</th>\n",
       "      <th>purchases</th>\n",
       "      <th>avg_ticket</th>\n",
       "      <th>avg_recency_days</th>\n",
       "      <th>frequency</th>\n",
       "    </tr>\n",
       "  </thead>\n",
       "  <tbody>\n",
       "    <tr>\n",
       "      <th>3266</th>\n",
       "      <td>16446</td>\n",
       "      <td>168472.5</td>\n",
       "      <td>0</td>\n",
       "      <td>80997</td>\n",
       "      <td>2</td>\n",
       "      <td>56157.5</td>\n",
       "      <td>205.0</td>\n",
       "      <td>0.009709</td>\n",
       "    </tr>\n",
       "  </tbody>\n",
       "</table>\n",
       "</div>"
      ],
      "text/plain": [
       "      customer_id  gross_revenue  recency_in_days  quantity  purchases  avg_ticket  avg_recency_days  frequency\n",
       "3266        16446       168472.5                0     80997          2     56157.5             205.0   0.009709"
      ]
     },
     "execution_count": 68,
     "metadata": {},
     "output_type": "execute_result"
    }
   ],
   "source": [
    "# Avg ticket\n",
    "\n",
    "df4[df4['avg_ticket'] == 56157.5]"
   ]
  },
  {
   "cell_type": "code",
   "execution_count": 69,
   "id": "d4eb045c",
   "metadata": {},
   "outputs": [
    {
     "data": {
      "text/html": [
       "<div>\n",
       "<style scoped>\n",
       "    .dataframe tbody tr th:only-of-type {\n",
       "        vertical-align: middle;\n",
       "    }\n",
       "\n",
       "    .dataframe tbody tr th {\n",
       "        vertical-align: top;\n",
       "    }\n",
       "\n",
       "    .dataframe thead th {\n",
       "        text-align: right;\n",
       "    }\n",
       "</style>\n",
       "<table border=\"1\" class=\"dataframe\">\n",
       "  <thead>\n",
       "    <tr style=\"text-align: right;\">\n",
       "      <th></th>\n",
       "      <th>invoice_no</th>\n",
       "      <th>stock_code</th>\n",
       "      <th>description</th>\n",
       "      <th>quantity</th>\n",
       "      <th>invoice_date</th>\n",
       "      <th>unit_price</th>\n",
       "      <th>country</th>\n",
       "      <th>customer_id</th>\n",
       "    </tr>\n",
       "  </thead>\n",
       "  <tbody>\n",
       "    <tr>\n",
       "      <th>194354</th>\n",
       "      <td>553573</td>\n",
       "      <td>22980</td>\n",
       "      <td>PANTRY SCRUBBING BRUSH</td>\n",
       "      <td>1</td>\n",
       "      <td>2017-05-16</td>\n",
       "      <td>1.65</td>\n",
       "      <td>United Kingdom</td>\n",
       "      <td>16446</td>\n",
       "    </tr>\n",
       "    <tr>\n",
       "      <th>194355</th>\n",
       "      <td>553573</td>\n",
       "      <td>22982</td>\n",
       "      <td>PANTRY PASTRY BRUSH</td>\n",
       "      <td>1</td>\n",
       "      <td>2017-05-16</td>\n",
       "      <td>1.25</td>\n",
       "      <td>United Kingdom</td>\n",
       "      <td>16446</td>\n",
       "    </tr>\n",
       "    <tr>\n",
       "      <th>540421</th>\n",
       "      <td>581483</td>\n",
       "      <td>23843</td>\n",
       "      <td>PAPER CRAFT , LITTLE BIRDIE</td>\n",
       "      <td>80995</td>\n",
       "      <td>2017-12-07</td>\n",
       "      <td>2.08</td>\n",
       "      <td>United Kingdom</td>\n",
       "      <td>16446</td>\n",
       "    </tr>\n",
       "    <tr>\n",
       "      <th>540422</th>\n",
       "      <td>C581484</td>\n",
       "      <td>23843</td>\n",
       "      <td>PAPER CRAFT , LITTLE BIRDIE</td>\n",
       "      <td>-80995</td>\n",
       "      <td>2017-12-07</td>\n",
       "      <td>2.08</td>\n",
       "      <td>United Kingdom</td>\n",
       "      <td>16446</td>\n",
       "    </tr>\n",
       "  </tbody>\n",
       "</table>\n",
       "</div>"
      ],
      "text/plain": [
       "       invoice_no stock_code                  description  quantity invoice_date  unit_price         country  customer_id\n",
       "194354     553573      22980       PANTRY SCRUBBING BRUSH         1   2017-05-16        1.65  United Kingdom        16446\n",
       "194355     553573      22982          PANTRY PASTRY BRUSH         1   2017-05-16        1.25  United Kingdom        16446\n",
       "540421     581483      23843  PAPER CRAFT , LITTLE BIRDIE     80995   2017-12-07        2.08  United Kingdom        16446\n",
       "540422    C581484      23843  PAPER CRAFT , LITTLE BIRDIE    -80995   2017-12-07        2.08  United Kingdom        16446"
      ]
     },
     "execution_count": 69,
     "metadata": {},
     "output_type": "execute_result"
    }
   ],
   "source": [
    "df1[df1['customer_id'] == 16446] # num próximo ciclo poderíamos criar uma feature qtd devolução / qtd compras para identificar clientes que devolvem muito"
   ]
  },
  {
   "cell_type": "markdown",
   "id": "d2d252fc",
   "metadata": {},
   "source": [
    "## 4.2. Bivariate Analysis"
   ]
  },
  {
   "cell_type": "code",
   "execution_count": 70,
   "id": "dd6cb792",
   "metadata": {},
   "outputs": [
    {
     "data": {
      "text/html": [
       "<div>\n",
       "<style scoped>\n",
       "    .dataframe tbody tr th:only-of-type {\n",
       "        vertical-align: middle;\n",
       "    }\n",
       "\n",
       "    .dataframe tbody tr th {\n",
       "        vertical-align: top;\n",
       "    }\n",
       "\n",
       "    .dataframe thead th {\n",
       "        text-align: right;\n",
       "    }\n",
       "</style>\n",
       "<table border=\"1\" class=\"dataframe\">\n",
       "  <thead>\n",
       "    <tr style=\"text-align: right;\">\n",
       "      <th></th>\n",
       "      <th>customer_id</th>\n",
       "      <th>gross_revenue</th>\n",
       "      <th>recency_in_days</th>\n",
       "      <th>quantity</th>\n",
       "      <th>purchases</th>\n",
       "      <th>avg_ticket</th>\n",
       "      <th>avg_recency_days</th>\n",
       "      <th>frequency</th>\n",
       "    </tr>\n",
       "  </thead>\n",
       "  <tbody>\n",
       "    <tr>\n",
       "      <th>0</th>\n",
       "      <td>17850</td>\n",
       "      <td>5391.21</td>\n",
       "      <td>372</td>\n",
       "      <td>1733</td>\n",
       "      <td>34</td>\n",
       "      <td>18.152222</td>\n",
       "      <td>1.000000</td>\n",
       "      <td>17.000000</td>\n",
       "    </tr>\n",
       "    <tr>\n",
       "      <th>1</th>\n",
       "      <td>13047</td>\n",
       "      <td>3232.59</td>\n",
       "      <td>56</td>\n",
       "      <td>1390</td>\n",
       "      <td>9</td>\n",
       "      <td>18.904035</td>\n",
       "      <td>52.833333</td>\n",
       "      <td>0.028302</td>\n",
       "    </tr>\n",
       "  </tbody>\n",
       "</table>\n",
       "</div>"
      ],
      "text/plain": [
       "   customer_id  gross_revenue  recency_in_days  quantity  purchases  avg_ticket  avg_recency_days  frequency\n",
       "0        17850        5391.21              372      1733         34   18.152222          1.000000  17.000000\n",
       "1        13047        3232.59               56      1390          9   18.904035         52.833333   0.028302"
      ]
     },
     "execution_count": 70,
     "metadata": {},
     "output_type": "execute_result"
    }
   ],
   "source": [
    "df4.head(2)"
   ]
  },
  {
   "cell_type": "code",
   "execution_count": 71,
   "id": "3f6b4fda",
   "metadata": {},
   "outputs": [
    {
     "data": {
      "text/plain": [
       "<seaborn.axisgrid.PairGrid at 0x22f22177e50>"
      ]
     },
     "execution_count": 71,
     "metadata": {},
     "output_type": "execute_result"
    },
    {
     "data": {
      "image/png": "[encoded data removed]",
      "text/plain": [
       "<Figure size 1260x1260 with 56 Axes>"
      ]
     },
     "metadata": {},
     "output_type": "display_data"
    }
   ],
   "source": [
    "sns.pairplot(df4.drop(['customer_id'], axis=1))\n",
    "\n",
    "# avg_ticket e frequency apresentam pouca variabilidade com as demais features, então talvez não sejam boas para a clusterização"
   ]
  },
  {
   "cell_type": "markdown",
   "id": "12619db3",
   "metadata": {},
   "source": [
    "## 4.3. Estudo do Espaço"
   ]
  },
  {
   "cell_type": "code",
   "execution_count": 72,
   "id": "729e2ca4",
   "metadata": {},
   "outputs": [],
   "source": [
    "df43 = df4.drop(['customer_id'], axis=1)"
   ]
  },
  {
   "cell_type": "code",
   "execution_count": 73,
   "id": "e6ea1a08",
   "metadata": {},
   "outputs": [],
   "source": [
    "mms = MinMaxScaler()\n",
    "\n",
    "df43['gross_revenue']   =  mms.fit_transform( df43[['gross_revenue']].values )\n",
    "df43['recency_in_days'] =  mms.fit_transform( df43[['recency_in_days']].values )\n",
    "df43['quantity'] =         mms.fit_transform( df43[['quantity']].values )\n",
    "df43['purchases'] =        mms.fit_transform( df43[['purchases']].values )\n",
    "df43['avg_ticket'] =       mms.fit_transform( df43[['avg_ticket']].values )\n",
    "df43['avg_recency_days'] = mms.fit_transform( df43[['avg_recency_days']].values )\n",
    "df43['frequency'] =        mms.fit_transform( df43[['frequency']].values )\n",
    "\n",
    "X = df43.copy()"
   ]
  },
  {
   "cell_type": "code",
   "execution_count": 74,
   "id": "64e7bad6",
   "metadata": {},
   "outputs": [
    {
     "data": {
      "text/html": [
       "<div>\n",
       "<style scoped>\n",
       "    .dataframe tbody tr th:only-of-type {\n",
       "        vertical-align: middle;\n",
       "    }\n",
       "\n",
       "    .dataframe tbody tr th {\n",
       "        vertical-align: top;\n",
       "    }\n",
       "\n",
       "    .dataframe thead th {\n",
       "        text-align: right;\n",
       "    }\n",
       "</style>\n",
       "<table border=\"1\" class=\"dataframe\">\n",
       "  <thead>\n",
       "    <tr style=\"text-align: right;\">\n",
       "      <th></th>\n",
       "      <th>gross_revenue</th>\n",
       "      <th>recency_in_days</th>\n",
       "      <th>quantity</th>\n",
       "      <th>purchases</th>\n",
       "      <th>avg_ticket</th>\n",
       "      <th>avg_recency_days</th>\n",
       "      <th>frequency</th>\n",
       "    </tr>\n",
       "  </thead>\n",
       "  <tbody>\n",
       "    <tr>\n",
       "      <th>0</th>\n",
       "      <td>0.019185</td>\n",
       "      <td>1.000000</td>\n",
       "      <td>0.008794</td>\n",
       "      <td>0.156863</td>\n",
       "      <td>0.000285</td>\n",
       "      <td>0.000000</td>\n",
       "      <td>1.000000</td>\n",
       "    </tr>\n",
       "    <tr>\n",
       "      <th>1</th>\n",
       "      <td>0.011451</td>\n",
       "      <td>0.150538</td>\n",
       "      <td>0.007051</td>\n",
       "      <td>0.034314</td>\n",
       "      <td>0.000298</td>\n",
       "      <td>0.142009</td>\n",
       "      <td>0.001345</td>\n",
       "    </tr>\n",
       "    <tr>\n",
       "      <th>2</th>\n",
       "      <td>0.023894</td>\n",
       "      <td>0.005376</td>\n",
       "      <td>0.025533</td>\n",
       "      <td>0.063725</td>\n",
       "      <td>0.000476</td>\n",
       "      <td>0.069863</td>\n",
       "      <td>0.002052</td>\n",
       "    </tr>\n",
       "    <tr>\n",
       "      <th>3</th>\n",
       "      <td>0.003267</td>\n",
       "      <td>0.255376</td>\n",
       "      <td>0.002220</td>\n",
       "      <td>0.014706</td>\n",
       "      <td>0.000565</td>\n",
       "      <td>0.251142</td>\n",
       "      <td>0.000734</td>\n",
       "    </tr>\n",
       "    <tr>\n",
       "      <th>4</th>\n",
       "      <td>0.003008</td>\n",
       "      <td>0.895161</td>\n",
       "      <td>0.000396</td>\n",
       "      <td>0.004902</td>\n",
       "      <td>0.005162</td>\n",
       "      <td>0.052055</td>\n",
       "      <td>0.003985</td>\n",
       "    </tr>\n",
       "  </tbody>\n",
       "</table>\n",
       "</div>"
      ],
      "text/plain": [
       "   gross_revenue  recency_in_days  quantity  purchases  avg_ticket  avg_recency_days  frequency\n",
       "0       0.019185         1.000000  0.008794   0.156863    0.000285          0.000000   1.000000\n",
       "1       0.011451         0.150538  0.007051   0.034314    0.000298          0.142009   0.001345\n",
       "2       0.023894         0.005376  0.025533   0.063725    0.000476          0.069863   0.002052\n",
       "3       0.003267         0.255376  0.002220   0.014706    0.000565          0.251142   0.000734\n",
       "4       0.003008         0.895161  0.000396   0.004902    0.005162          0.052055   0.003985"
      ]
     },
     "execution_count": 74,
     "metadata": {},
     "output_type": "execute_result"
    }
   ],
   "source": [
    "X.head()"
   ]
  },
  {
   "cell_type": "markdown",
   "id": "9e0a4ccc",
   "metadata": {},
   "source": [
    "## 4.3.1. PCA"
   ]
  },
  {
   "cell_type": "code",
   "execution_count": 75,
   "id": "ca305121",
   "metadata": {},
   "outputs": [],
   "source": [
    "n_components = X.shape[1]"
   ]
  },
  {
   "cell_type": "code",
   "execution_count": 76,
   "id": "e19b2565",
   "metadata": {},
   "outputs": [
    {
     "data": {
      "image/png": "[encoded data removed]",
      "text/plain": [
       "<Figure size 864x360 with 1 Axes>"
      ]
     },
     "metadata": {},
     "output_type": "display_data"
    }
   ],
   "source": [
    "figure(figsize=(12,5))\n",
    "pca = dd.PCA( n_components )\n",
    "principal_components = pca.fit_transform(X)\n",
    "\n",
    "# plot explain variable\n",
    "features = range( pca.n_components )\n",
    "\n",
    "plt.bar(features, pca.explained_variance_ratio_, color='black'); # os componentes principais com a maior variação dos dados: 0 e 1\n",
    "\n",
    "# pca component\n",
    "df_pca = pd.DataFrame( principal_components )"
   ]
  },
  {
   "cell_type": "code",
   "execution_count": 77,
   "id": "9776ec83",
   "metadata": {},
   "outputs": [
    {
     "data": {
      "text/html": [
       "<div>\n",
       "<style scoped>\n",
       "    .dataframe tbody tr th:only-of-type {\n",
       "        vertical-align: middle;\n",
       "    }\n",
       "\n",
       "    .dataframe tbody tr th {\n",
       "        vertical-align: top;\n",
       "    }\n",
       "\n",
       "    .dataframe thead th {\n",
       "        text-align: right;\n",
       "    }\n",
       "</style>\n",
       "<table border=\"1\" class=\"dataframe\">\n",
       "  <thead>\n",
       "    <tr style=\"text-align: right;\">\n",
       "      <th></th>\n",
       "      <th>0</th>\n",
       "      <th>1</th>\n",
       "      <th>2</th>\n",
       "      <th>3</th>\n",
       "      <th>4</th>\n",
       "      <th>5</th>\n",
       "      <th>6</th>\n",
       "    </tr>\n",
       "  </thead>\n",
       "  <tbody>\n",
       "    <tr>\n",
       "      <th>0</th>\n",
       "      <td>0.765586</td>\n",
       "      <td>-0.437688</td>\n",
       "      <td>0.149525</td>\n",
       "      <td>-0.203219</td>\n",
       "      <td>0.964225</td>\n",
       "      <td>-0.082011</td>\n",
       "      <td>-0.000756</td>\n",
       "    </tr>\n",
       "    <tr>\n",
       "      <th>1</th>\n",
       "      <td>-0.019855</td>\n",
       "      <td>-0.069184</td>\n",
       "      <td>0.002816</td>\n",
       "      <td>-0.008566</td>\n",
       "      <td>-0.002683</td>\n",
       "      <td>0.002258</td>\n",
       "      <td>0.002201</td>\n",
       "    </tr>\n",
       "  </tbody>\n",
       "</table>\n",
       "</div>"
      ],
      "text/plain": [
       "          0         1         2         3         4         5         6\n",
       "0  0.765586 -0.437688  0.149525 -0.203219  0.964225 -0.082011 -0.000756\n",
       "1 -0.019855 -0.069184  0.002816 -0.008566 -0.002683  0.002258  0.002201"
      ]
     },
     "execution_count": 77,
     "metadata": {},
     "output_type": "execute_result"
    }
   ],
   "source": [
    "df_pca.head(2)"
   ]
  },
  {
   "cell_type": "code",
   "execution_count": 78,
   "id": "4dac23b4",
   "metadata": {},
   "outputs": [
    {
     "data": {
      "image/png": "[encoded data removed]",
      "text/plain": [
       "<Figure size 864x360 with 1 Axes>"
      ]
     },
     "metadata": {},
     "output_type": "display_data"
    }
   ],
   "source": [
    "figure(figsize=(12,5))\n",
    "sns.scatterplot( x=0, y=1, data=df_pca ); # mesmo plotando as features com maior variedade, nossos dados não se separam em clusters, portanto vamos tentar um novo espaço com UMAP"
   ]
  },
  {
   "cell_type": "markdown",
   "id": "0c510148",
   "metadata": {},
   "source": [
    "## 4.3.2. UMAP"
   ]
  },
  {
   "cell_type": "code",
   "execution_count": 79,
   "id": "92f73cb4",
   "metadata": {},
   "outputs": [
    {
     "data": {
      "image/png": "[encoded data removed]",
      "text/plain": [
       "<Figure size 864x360 with 1 Axes>"
      ]
     },
     "metadata": {},
     "output_type": "display_data"
    }
   ],
   "source": [
    "reducer = umap.UMAP( random_state = 42 )\n",
    "embedding = reducer.fit_transform( X )\n",
    "\n",
    "# embedding\n",
    "df_pca['embedding_x'] = embedding[:,0]\n",
    "df_pca['embedding_y'] = embedding[:,1]\n",
    "\n",
    "# plot UMAP\n",
    "figure(figsize=(12,5))\n",
    "sns.scatterplot( x = 'embedding_x', y = 'embedding_y', data=df_pca );"
   ]
  },
  {
   "cell_type": "markdown",
   "id": "97f5bbc5",
   "metadata": {},
   "source": [
    "## 4.3.3. t-SNE"
   ]
  },
  {
   "cell_type": "code",
   "execution_count": 80,
   "id": "3d0693f0",
   "metadata": {},
   "outputs": [
    {
     "data": {
      "image/png": "[encoded data removed]",
      "text/plain": [
       "<Figure size 864x360 with 1 Axes>"
      ]
     },
     "metadata": {},
     "output_type": "display_data"
    }
   ],
   "source": [
    "reducer = TSNE( n_components=2, n_jobs=-1, random_state = 42 )\n",
    "embedding = reducer.fit_transform( X )\n",
    "\n",
    "# embedding\n",
    "df_pca['embedding_x'] = embedding[:,0]\n",
    "df_pca['embedding_y'] = embedding[:,1]\n",
    "\n",
    "# plot UMAP\n",
    "figure(figsize=(12,5))\n",
    "sns.scatterplot( x = 'embedding_x', y = 'embedding_y', data=df_pca );"
   ]
  },
  {
   "cell_type": "markdown",
   "id": "26291643",
   "metadata": {},
   "source": [
    "## 4.3.4. Tree-based Embedding"
   ]
  },
  {
   "cell_type": "code",
   "execution_count": 82,
   "id": "c19219ac",
   "metadata": {},
   "outputs": [
    {
     "data": {
      "text/html": [
       "<style>#sk-container-id-1 {color: black;background-color: white;}#sk-container-id-1 pre{padding: 0;}#sk-container-id-1 div.sk-toggleable {background-color: white;}#sk-container-id-1 label.sk-toggleable__label {cursor: pointer;display: block;width: 100%;margin-bottom: 0;padding: 0.3em;box-sizing: border-box;text-align: center;}#sk-container-id-1 label.sk-toggleable__label-arrow:before {content: \"▸\";float: left;margin-right: 0.25em;color: #696969;}#sk-container-id-1 label.sk-toggleable__label-arrow:hover:before {color: black;}#sk-container-id-1 div.sk-estimator:hover label.sk-toggleable__label-arrow:before {color: black;}#sk-container-id-1 div.sk-toggleable__content {max-height: 0;max-width: 0;overflow: hidden;text-align: left;background-color: #f0f8ff;}#sk-container-id-1 div.sk-toggleable__content pre {margin: 0.2em;color: black;border-radius: 0.25em;background-color: #f0f8ff;}#sk-container-id-1 input.sk-toggleable__control:checked~div.sk-toggleable__content {max-height: 200px;max-width: 100%;overflow: auto;}#sk-container-id-1 input.sk-toggleable__control:checked~label.sk-toggleable__label-arrow:before {content: \"▾\";}#sk-container-id-1 div.sk-estimator input.sk-toggleable__control:checked~label.sk-toggleable__label {background-color: #d4ebff;}#sk-container-id-1 div.sk-label input.sk-toggleable__control:checked~label.sk-toggleable__label {background-color: #d4ebff;}#sk-container-id-1 input.sk-hidden--visually {border: 0;clip: rect(1px 1px 1px 1px);clip: rect(1px, 1px, 1px, 1px);height: 1px;margin: -1px;overflow: hidden;padding: 0;position: absolute;width: 1px;}#sk-container-id-1 div.sk-estimator {font-family: monospace;background-color: #f0f8ff;border: 1px dotted black;border-radius: 0.25em;box-sizing: border-box;margin-bottom: 0.5em;}#sk-container-id-1 div.sk-estimator:hover {background-color: #d4ebff;}#sk-container-id-1 div.sk-parallel-item::after {content: \"\";width: 100%;border-bottom: 1px solid gray;flex-grow: 1;}#sk-container-id-1 div.sk-label:hover label.sk-toggleable__label {background-color: #d4ebff;}#sk-container-id-1 div.sk-serial::before {content: \"\";position: absolute;border-left: 1px solid gray;box-sizing: border-box;top: 0;bottom: 0;left: 50%;z-index: 0;}#sk-container-id-1 div.sk-serial {display: flex;flex-direction: column;align-items: center;background-color: white;padding-right: 0.2em;padding-left: 0.2em;position: relative;}#sk-container-id-1 div.sk-item {position: relative;z-index: 1;}#sk-container-id-1 div.sk-parallel {display: flex;align-items: stretch;justify-content: center;background-color: white;position: relative;}#sk-container-id-1 div.sk-item::before, #sk-container-id-1 div.sk-parallel-item::before {content: \"\";position: absolute;border-left: 1px solid gray;box-sizing: border-box;top: 0;bottom: 0;left: 50%;z-index: -1;}#sk-container-id-1 div.sk-parallel-item {display: flex;flex-direction: column;z-index: 1;position: relative;background-color: white;}#sk-container-id-1 div.sk-parallel-item:first-child::after {align-self: flex-end;width: 50%;}#sk-container-id-1 div.sk-parallel-item:last-child::after {align-self: flex-start;width: 50%;}#sk-container-id-1 div.sk-parallel-item:only-child::after {width: 0;}#sk-container-id-1 div.sk-dashed-wrapped {border: 1px dashed gray;margin: 0 0.4em 0.5em 0.4em;box-sizing: border-box;padding-bottom: 0.4em;background-color: white;}#sk-container-id-1 div.sk-label label {font-family: monospace;font-weight: bold;display: inline-block;line-height: 1.2em;}#sk-container-id-1 div.sk-label-container {text-align: center;}#sk-container-id-1 div.sk-container {/* jupyter's `normalize.less` sets `[hidden] { display: none; }` but bootstrap.min.css set `[hidden] { display: none !important; }` so we also need the `!important` here to be able to override the default hidden behavior on the sphinx rendered scikit-learn.org. See: https://github.com/scikit-learn/scikit-learn/issues/21755 */display: inline-block !important;position: relative;}#sk-container-id-1 div.sk-text-repr-fallback {display: none;}</style><div id=\"sk-container-id-1\" class=\"sk-top-container\"><div class=\"sk-text-repr-fallback\"><pre>RandomForestRegressor(random_state=42)</pre><b>In a Jupyter environment, please rerun this cell to show the HTML representation or trust the notebook. <br />On GitHub, the HTML representation is unable to render, please try loading this page with nbviewer.org.</b></div><div class=\"sk-container\" hidden><div class=\"sk-item\"><div class=\"sk-estimator sk-toggleable\"><input class=\"sk-toggleable__control sk-hidden--visually\" id=\"sk-estimator-id-1\" type=\"checkbox\" checked><label for=\"sk-estimator-id-1\" class=\"sk-toggleable__label sk-toggleable__label-arrow\">RandomForestRegressor</label><div class=\"sk-toggleable__content\"><pre>RandomForestRegressor(random_state=42)</pre></div></div></div></div></div>"
      ],
      "text/plain": [
       "RandomForestRegressor(random_state=42)"
      ]
     },
     "execution_count": 82,
     "metadata": {},
     "output_type": "execute_result"
    }
   ],
   "source": [
    "# truque: hipótese que clientes que gastam mais são mais valiosos, portanto criaremos uma randomforest com a variável target Gross Revenue para definirmos um espaço\n",
    "# na randomforest não precisamos do minmaxscaler\n",
    "\n",
    "# training dataset\n",
    "X = df4.drop(['customer_id', 'gross_revenue'], axis=1)\n",
    "y = df4['gross_revenue']\n",
    "\n",
    "# model definition\n",
    "rf_model = en.RandomForestRegressor( n_estimators=100, random_state=42 )\n",
    "\n",
    "# model training\n",
    "rf_model.fit( X, y ) # no fit eu montei a estrutura da árvore, agora como não queremos prever o y (que seria o predict), vamos aplicar a estrutura da árvore para todos meus dados de treinotemos um y para prever\n",
    "\n",
    "# Leaf\n",
    "\n",
    "# dataframe leaf"
   ]
  },
  {
   "cell_type": "code",
   "execution_count": 83,
   "id": "3947f497",
   "metadata": {},
   "outputs": [],
   "source": [
    "df_leaf = pd.DataFrame( rf_model.apply( X ) )"
   ]
  },
  {
   "cell_type": "code",
   "execution_count": 84,
   "id": "d491d9f9",
   "metadata": {},
   "outputs": [
    {
     "data": {
      "text/html": [
       "<div>\n",
       "<style scoped>\n",
       "    .dataframe tbody tr th:only-of-type {\n",
       "        vertical-align: middle;\n",
       "    }\n",
       "\n",
       "    .dataframe tbody tr th {\n",
       "        vertical-align: top;\n",
       "    }\n",
       "\n",
       "    .dataframe thead th {\n",
       "        text-align: right;\n",
       "    }\n",
       "</style>\n",
       "<table border=\"1\" class=\"dataframe\">\n",
       "  <thead>\n",
       "    <tr style=\"text-align: right;\">\n",
       "      <th></th>\n",
       "      <th>0</th>\n",
       "      <th>1</th>\n",
       "      <th>2</th>\n",
       "      <th>3</th>\n",
       "      <th>4</th>\n",
       "      <th>5</th>\n",
       "      <th>6</th>\n",
       "      <th>7</th>\n",
       "      <th>8</th>\n",
       "      <th>9</th>\n",
       "      <th>10</th>\n",
       "      <th>11</th>\n",
       "      <th>12</th>\n",
       "      <th>13</th>\n",
       "      <th>14</th>\n",
       "      <th>15</th>\n",
       "      <th>16</th>\n",
       "      <th>17</th>\n",
       "      <th>18</th>\n",
       "      <th>19</th>\n",
       "      <th>20</th>\n",
       "      <th>21</th>\n",
       "      <th>22</th>\n",
       "      <th>23</th>\n",
       "      <th>24</th>\n",
       "      <th>25</th>\n",
       "      <th>26</th>\n",
       "      <th>27</th>\n",
       "      <th>28</th>\n",
       "      <th>29</th>\n",
       "      <th>30</th>\n",
       "      <th>31</th>\n",
       "      <th>32</th>\n",
       "      <th>33</th>\n",
       "      <th>34</th>\n",
       "      <th>35</th>\n",
       "      <th>36</th>\n",
       "      <th>37</th>\n",
       "      <th>38</th>\n",
       "      <th>39</th>\n",
       "      <th>40</th>\n",
       "      <th>41</th>\n",
       "      <th>42</th>\n",
       "      <th>43</th>\n",
       "      <th>44</th>\n",
       "      <th>45</th>\n",
       "      <th>46</th>\n",
       "      <th>47</th>\n",
       "      <th>48</th>\n",
       "      <th>49</th>\n",
       "      <th>50</th>\n",
       "      <th>51</th>\n",
       "      <th>52</th>\n",
       "      <th>53</th>\n",
       "      <th>54</th>\n",
       "      <th>55</th>\n",
       "      <th>56</th>\n",
       "      <th>57</th>\n",
       "      <th>58</th>\n",
       "      <th>59</th>\n",
       "      <th>60</th>\n",
       "      <th>61</th>\n",
       "      <th>62</th>\n",
       "      <th>63</th>\n",
       "      <th>64</th>\n",
       "      <th>65</th>\n",
       "      <th>66</th>\n",
       "      <th>67</th>\n",
       "      <th>68</th>\n",
       "      <th>69</th>\n",
       "      <th>70</th>\n",
       "      <th>71</th>\n",
       "      <th>72</th>\n",
       "      <th>73</th>\n",
       "      <th>74</th>\n",
       "      <th>75</th>\n",
       "      <th>76</th>\n",
       "      <th>77</th>\n",
       "      <th>78</th>\n",
       "      <th>79</th>\n",
       "      <th>80</th>\n",
       "      <th>81</th>\n",
       "      <th>82</th>\n",
       "      <th>83</th>\n",
       "      <th>84</th>\n",
       "      <th>85</th>\n",
       "      <th>86</th>\n",
       "      <th>87</th>\n",
       "      <th>88</th>\n",
       "      <th>89</th>\n",
       "      <th>90</th>\n",
       "      <th>91</th>\n",
       "      <th>92</th>\n",
       "      <th>93</th>\n",
       "      <th>94</th>\n",
       "      <th>95</th>\n",
       "      <th>96</th>\n",
       "      <th>97</th>\n",
       "      <th>98</th>\n",
       "      <th>99</th>\n",
       "    </tr>\n",
       "  </thead>\n",
       "  <tbody>\n",
       "    <tr>\n",
       "      <th>0</th>\n",
       "      <td>2950</td>\n",
       "      <td>3057</td>\n",
       "      <td>3099</td>\n",
       "      <td>2903</td>\n",
       "      <td>2837</td>\n",
       "      <td>2934</td>\n",
       "      <td>3038</td>\n",
       "      <td>3001</td>\n",
       "      <td>2956</td>\n",
       "      <td>3048</td>\n",
       "      <td>3037</td>\n",
       "      <td>3075</td>\n",
       "      <td>3120</td>\n",
       "      <td>2902</td>\n",
       "      <td>2792</td>\n",
       "      <td>3074</td>\n",
       "      <td>2805</td>\n",
       "      <td>2880</td>\n",
       "      <td>3114</td>\n",
       "      <td>2807</td>\n",
       "      <td>2881</td>\n",
       "      <td>2881</td>\n",
       "      <td>2918</td>\n",
       "      <td>2839</td>\n",
       "      <td>3014</td>\n",
       "      <td>2897</td>\n",
       "      <td>2762</td>\n",
       "      <td>2997</td>\n",
       "      <td>3019</td>\n",
       "      <td>2865</td>\n",
       "      <td>3138</td>\n",
       "      <td>2941</td>\n",
       "      <td>2908</td>\n",
       "      <td>2985</td>\n",
       "      <td>2960</td>\n",
       "      <td>2826</td>\n",
       "      <td>2843</td>\n",
       "      <td>2887</td>\n",
       "      <td>3016</td>\n",
       "      <td>2852</td>\n",
       "      <td>2908</td>\n",
       "      <td>3128</td>\n",
       "      <td>2947</td>\n",
       "      <td>2869</td>\n",
       "      <td>3086</td>\n",
       "      <td>2941</td>\n",
       "      <td>2998</td>\n",
       "      <td>2876</td>\n",
       "      <td>2962</td>\n",
       "      <td>2928</td>\n",
       "      <td>3005</td>\n",
       "      <td>2918</td>\n",
       "      <td>2783</td>\n",
       "      <td>2893</td>\n",
       "      <td>3056</td>\n",
       "      <td>3084</td>\n",
       "      <td>3044</td>\n",
       "      <td>2974</td>\n",
       "      <td>3077</td>\n",
       "      <td>2919</td>\n",
       "      <td>3116</td>\n",
       "      <td>2906</td>\n",
       "      <td>2899</td>\n",
       "      <td>2975</td>\n",
       "      <td>2897</td>\n",
       "      <td>3012</td>\n",
       "      <td>2946</td>\n",
       "      <td>3063</td>\n",
       "      <td>2878</td>\n",
       "      <td>3042</td>\n",
       "      <td>3048</td>\n",
       "      <td>3175</td>\n",
       "      <td>2933</td>\n",
       "      <td>2999</td>\n",
       "      <td>2920</td>\n",
       "      <td>2947</td>\n",
       "      <td>2948</td>\n",
       "      <td>2901</td>\n",
       "      <td>3132</td>\n",
       "      <td>2985</td>\n",
       "      <td>2798</td>\n",
       "      <td>3008</td>\n",
       "      <td>2930</td>\n",
       "      <td>2894</td>\n",
       "      <td>3076</td>\n",
       "      <td>3080</td>\n",
       "      <td>2936</td>\n",
       "      <td>2945</td>\n",
       "      <td>2948</td>\n",
       "      <td>2951</td>\n",
       "      <td>3002</td>\n",
       "      <td>2804</td>\n",
       "      <td>2776</td>\n",
       "      <td>3100</td>\n",
       "      <td>3060</td>\n",
       "      <td>3153</td>\n",
       "      <td>2842</td>\n",
       "      <td>2912</td>\n",
       "      <td>2764</td>\n",
       "      <td>2908</td>\n",
       "    </tr>\n",
       "    <tr>\n",
       "      <th>1</th>\n",
       "      <td>2765</td>\n",
       "      <td>2951</td>\n",
       "      <td>2723</td>\n",
       "      <td>2851</td>\n",
       "      <td>2833</td>\n",
       "      <td>2646</td>\n",
       "      <td>2696</td>\n",
       "      <td>2661</td>\n",
       "      <td>2899</td>\n",
       "      <td>2570</td>\n",
       "      <td>2569</td>\n",
       "      <td>2707</td>\n",
       "      <td>2707</td>\n",
       "      <td>2613</td>\n",
       "      <td>2621</td>\n",
       "      <td>2685</td>\n",
       "      <td>2692</td>\n",
       "      <td>2822</td>\n",
       "      <td>2682</td>\n",
       "      <td>2767</td>\n",
       "      <td>2872</td>\n",
       "      <td>2717</td>\n",
       "      <td>2858</td>\n",
       "      <td>2594</td>\n",
       "      <td>2636</td>\n",
       "      <td>2885</td>\n",
       "      <td>2470</td>\n",
       "      <td>2541</td>\n",
       "      <td>2661</td>\n",
       "      <td>2607</td>\n",
       "      <td>2525</td>\n",
       "      <td>2884</td>\n",
       "      <td>2869</td>\n",
       "      <td>2924</td>\n",
       "      <td>2678</td>\n",
       "      <td>2846</td>\n",
       "      <td>2598</td>\n",
       "      <td>2890</td>\n",
       "      <td>2627</td>\n",
       "      <td>2802</td>\n",
       "      <td>2641</td>\n",
       "      <td>2655</td>\n",
       "      <td>2704</td>\n",
       "      <td>2657</td>\n",
       "      <td>2683</td>\n",
       "      <td>2592</td>\n",
       "      <td>2685</td>\n",
       "      <td>2803</td>\n",
       "      <td>2685</td>\n",
       "      <td>2755</td>\n",
       "      <td>2548</td>\n",
       "      <td>2554</td>\n",
       "      <td>2776</td>\n",
       "      <td>2487</td>\n",
       "      <td>2628</td>\n",
       "      <td>2596</td>\n",
       "      <td>2991</td>\n",
       "      <td>2604</td>\n",
       "      <td>2752</td>\n",
       "      <td>2689</td>\n",
       "      <td>2753</td>\n",
       "      <td>2659</td>\n",
       "      <td>2633</td>\n",
       "      <td>2765</td>\n",
       "      <td>2852</td>\n",
       "      <td>2622</td>\n",
       "      <td>2860</td>\n",
       "      <td>2661</td>\n",
       "      <td>2848</td>\n",
       "      <td>2657</td>\n",
       "      <td>2564</td>\n",
       "      <td>2720</td>\n",
       "      <td>2630</td>\n",
       "      <td>2588</td>\n",
       "      <td>2888</td>\n",
       "      <td>2596</td>\n",
       "      <td>2719</td>\n",
       "      <td>2491</td>\n",
       "      <td>2745</td>\n",
       "      <td>2636</td>\n",
       "      <td>2683</td>\n",
       "      <td>2590</td>\n",
       "      <td>2606</td>\n",
       "      <td>2888</td>\n",
       "      <td>2780</td>\n",
       "      <td>2659</td>\n",
       "      <td>2856</td>\n",
       "      <td>2877</td>\n",
       "      <td>2640</td>\n",
       "      <td>2539</td>\n",
       "      <td>2572</td>\n",
       "      <td>2796</td>\n",
       "      <td>2772</td>\n",
       "      <td>2702</td>\n",
       "      <td>2686</td>\n",
       "      <td>2569</td>\n",
       "      <td>2789</td>\n",
       "      <td>2855</td>\n",
       "      <td>2572</td>\n",
       "      <td>2719</td>\n",
       "    </tr>\n",
       "    <tr>\n",
       "      <th>2</th>\n",
       "      <td>3365</td>\n",
       "      <td>3344</td>\n",
       "      <td>3360</td>\n",
       "      <td>3372</td>\n",
       "      <td>3305</td>\n",
       "      <td>3395</td>\n",
       "      <td>3376</td>\n",
       "      <td>3342</td>\n",
       "      <td>3360</td>\n",
       "      <td>3292</td>\n",
       "      <td>3341</td>\n",
       "      <td>3313</td>\n",
       "      <td>3339</td>\n",
       "      <td>3405</td>\n",
       "      <td>3251</td>\n",
       "      <td>3332</td>\n",
       "      <td>3307</td>\n",
       "      <td>3416</td>\n",
       "      <td>3396</td>\n",
       "      <td>3231</td>\n",
       "      <td>3391</td>\n",
       "      <td>3302</td>\n",
       "      <td>3312</td>\n",
       "      <td>3339</td>\n",
       "      <td>3397</td>\n",
       "      <td>3334</td>\n",
       "      <td>3216</td>\n",
       "      <td>3359</td>\n",
       "      <td>3306</td>\n",
       "      <td>3427</td>\n",
       "      <td>3398</td>\n",
       "      <td>3403</td>\n",
       "      <td>3397</td>\n",
       "      <td>3335</td>\n",
       "      <td>3323</td>\n",
       "      <td>3352</td>\n",
       "      <td>3334</td>\n",
       "      <td>3323</td>\n",
       "      <td>3312</td>\n",
       "      <td>3246</td>\n",
       "      <td>3388</td>\n",
       "      <td>3388</td>\n",
       "      <td>3408</td>\n",
       "      <td>3318</td>\n",
       "      <td>3367</td>\n",
       "      <td>3328</td>\n",
       "      <td>3324</td>\n",
       "      <td>3283</td>\n",
       "      <td>3451</td>\n",
       "      <td>3311</td>\n",
       "      <td>3318</td>\n",
       "      <td>3407</td>\n",
       "      <td>3278</td>\n",
       "      <td>3304</td>\n",
       "      <td>3347</td>\n",
       "      <td>3341</td>\n",
       "      <td>3322</td>\n",
       "      <td>3439</td>\n",
       "      <td>3235</td>\n",
       "      <td>3323</td>\n",
       "      <td>3376</td>\n",
       "      <td>3288</td>\n",
       "      <td>3312</td>\n",
       "      <td>3424</td>\n",
       "      <td>3352</td>\n",
       "      <td>3245</td>\n",
       "      <td>3367</td>\n",
       "      <td>3370</td>\n",
       "      <td>3323</td>\n",
       "      <td>3351</td>\n",
       "      <td>3385</td>\n",
       "      <td>3430</td>\n",
       "      <td>3410</td>\n",
       "      <td>3353</td>\n",
       "      <td>3334</td>\n",
       "      <td>3335</td>\n",
       "      <td>3344</td>\n",
       "      <td>3313</td>\n",
       "      <td>3449</td>\n",
       "      <td>3264</td>\n",
       "      <td>3280</td>\n",
       "      <td>3346</td>\n",
       "      <td>3351</td>\n",
       "      <td>3335</td>\n",
       "      <td>3308</td>\n",
       "      <td>3402</td>\n",
       "      <td>3348</td>\n",
       "      <td>3376</td>\n",
       "      <td>3324</td>\n",
       "      <td>3337</td>\n",
       "      <td>3386</td>\n",
       "      <td>3330</td>\n",
       "      <td>3346</td>\n",
       "      <td>3218</td>\n",
       "      <td>3342</td>\n",
       "      <td>3313</td>\n",
       "      <td>3326</td>\n",
       "      <td>3278</td>\n",
       "      <td>3315</td>\n",
       "      <td>3314</td>\n",
       "    </tr>\n",
       "    <tr>\n",
       "      <th>3</th>\n",
       "      <td>1282</td>\n",
       "      <td>1714</td>\n",
       "      <td>2005</td>\n",
       "      <td>1276</td>\n",
       "      <td>1163</td>\n",
       "      <td>1285</td>\n",
       "      <td>1883</td>\n",
       "      <td>1964</td>\n",
       "      <td>1344</td>\n",
       "      <td>1331</td>\n",
       "      <td>1558</td>\n",
       "      <td>1557</td>\n",
       "      <td>1322</td>\n",
       "      <td>1251</td>\n",
       "      <td>1529</td>\n",
       "      <td>1190</td>\n",
       "      <td>1303</td>\n",
       "      <td>2009</td>\n",
       "      <td>1273</td>\n",
       "      <td>1676</td>\n",
       "      <td>1622</td>\n",
       "      <td>1301</td>\n",
       "      <td>1586</td>\n",
       "      <td>1371</td>\n",
       "      <td>1833</td>\n",
       "      <td>1543</td>\n",
       "      <td>1312</td>\n",
       "      <td>1826</td>\n",
       "      <td>1718</td>\n",
       "      <td>1946</td>\n",
       "      <td>1645</td>\n",
       "      <td>1576</td>\n",
       "      <td>1309</td>\n",
       "      <td>1892</td>\n",
       "      <td>1347</td>\n",
       "      <td>1632</td>\n",
       "      <td>1189</td>\n",
       "      <td>1493</td>\n",
       "      <td>1272</td>\n",
       "      <td>1567</td>\n",
       "      <td>1363</td>\n",
       "      <td>2124</td>\n",
       "      <td>1368</td>\n",
       "      <td>1613</td>\n",
       "      <td>1319</td>\n",
       "      <td>1473</td>\n",
       "      <td>1278</td>\n",
       "      <td>1294</td>\n",
       "      <td>1520</td>\n",
       "      <td>1321</td>\n",
       "      <td>1548</td>\n",
       "      <td>1274</td>\n",
       "      <td>1636</td>\n",
       "      <td>1248</td>\n",
       "      <td>1344</td>\n",
       "      <td>1922</td>\n",
       "      <td>1672</td>\n",
       "      <td>2023</td>\n",
       "      <td>1337</td>\n",
       "      <td>2038</td>\n",
       "      <td>1603</td>\n",
       "      <td>1248</td>\n",
       "      <td>1442</td>\n",
       "      <td>1471</td>\n",
       "      <td>1729</td>\n",
       "      <td>1124</td>\n",
       "      <td>1612</td>\n",
       "      <td>1834</td>\n",
       "      <td>1655</td>\n",
       "      <td>1468</td>\n",
       "      <td>1829</td>\n",
       "      <td>1361</td>\n",
       "      <td>1372</td>\n",
       "      <td>1383</td>\n",
       "      <td>1475</td>\n",
       "      <td>1529</td>\n",
       "      <td>1345</td>\n",
       "      <td>1610</td>\n",
       "      <td>1586</td>\n",
       "      <td>1348</td>\n",
       "      <td>1324</td>\n",
       "      <td>1245</td>\n",
       "      <td>2015</td>\n",
       "      <td>1872</td>\n",
       "      <td>1357</td>\n",
       "      <td>1338</td>\n",
       "      <td>1538</td>\n",
       "      <td>1395</td>\n",
       "      <td>1286</td>\n",
       "      <td>1355</td>\n",
       "      <td>1795</td>\n",
       "      <td>1312</td>\n",
       "      <td>1279</td>\n",
       "      <td>1311</td>\n",
       "      <td>1339</td>\n",
       "      <td>1567</td>\n",
       "      <td>1292</td>\n",
       "      <td>1329</td>\n",
       "      <td>1585</td>\n",
       "      <td>1534</td>\n",
       "    </tr>\n",
       "    <tr>\n",
       "      <th>4</th>\n",
       "      <td>172</td>\n",
       "      <td>482</td>\n",
       "      <td>540</td>\n",
       "      <td>745</td>\n",
       "      <td>414</td>\n",
       "      <td>221</td>\n",
       "      <td>605</td>\n",
       "      <td>135</td>\n",
       "      <td>709</td>\n",
       "      <td>674</td>\n",
       "      <td>568</td>\n",
       "      <td>409</td>\n",
       "      <td>467</td>\n",
       "      <td>539</td>\n",
       "      <td>301</td>\n",
       "      <td>522</td>\n",
       "      <td>655</td>\n",
       "      <td>543</td>\n",
       "      <td>685</td>\n",
       "      <td>411</td>\n",
       "      <td>566</td>\n",
       "      <td>444</td>\n",
       "      <td>575</td>\n",
       "      <td>216</td>\n",
       "      <td>463</td>\n",
       "      <td>432</td>\n",
       "      <td>105</td>\n",
       "      <td>127</td>\n",
       "      <td>457</td>\n",
       "      <td>542</td>\n",
       "      <td>500</td>\n",
       "      <td>545</td>\n",
       "      <td>791</td>\n",
       "      <td>471</td>\n",
       "      <td>235</td>\n",
       "      <td>413</td>\n",
       "      <td>495</td>\n",
       "      <td>448</td>\n",
       "      <td>309</td>\n",
       "      <td>525</td>\n",
       "      <td>434</td>\n",
       "      <td>333</td>\n",
       "      <td>463</td>\n",
       "      <td>546</td>\n",
       "      <td>475</td>\n",
       "      <td>382</td>\n",
       "      <td>593</td>\n",
       "      <td>581</td>\n",
       "      <td>443</td>\n",
       "      <td>599</td>\n",
       "      <td>561</td>\n",
       "      <td>569</td>\n",
       "      <td>463</td>\n",
       "      <td>694</td>\n",
       "      <td>193</td>\n",
       "      <td>465</td>\n",
       "      <td>564</td>\n",
       "      <td>125</td>\n",
       "      <td>338</td>\n",
       "      <td>531</td>\n",
       "      <td>425</td>\n",
       "      <td>671</td>\n",
       "      <td>571</td>\n",
       "      <td>541</td>\n",
       "      <td>466</td>\n",
       "      <td>569</td>\n",
       "      <td>503</td>\n",
       "      <td>602</td>\n",
       "      <td>459</td>\n",
       "      <td>749</td>\n",
       "      <td>546</td>\n",
       "      <td>565</td>\n",
       "      <td>487</td>\n",
       "      <td>717</td>\n",
       "      <td>459</td>\n",
       "      <td>459</td>\n",
       "      <td>680</td>\n",
       "      <td>526</td>\n",
       "      <td>413</td>\n",
       "      <td>422</td>\n",
       "      <td>478</td>\n",
       "      <td>166</td>\n",
       "      <td>681</td>\n",
       "      <td>666</td>\n",
       "      <td>717</td>\n",
       "      <td>558</td>\n",
       "      <td>415</td>\n",
       "      <td>776</td>\n",
       "      <td>113</td>\n",
       "      <td>756</td>\n",
       "      <td>491</td>\n",
       "      <td>424</td>\n",
       "      <td>588</td>\n",
       "      <td>354</td>\n",
       "      <td>150</td>\n",
       "      <td>448</td>\n",
       "      <td>555</td>\n",
       "      <td>625</td>\n",
       "      <td>581</td>\n",
       "      <td>495</td>\n",
       "    </tr>\n",
       "  </tbody>\n",
       "</table>\n",
       "</div>"
      ],
      "text/plain": [
       "     0     1     2     3     4     5     6     7     8     9     10    11    12    13    14    15    16    17    18    19    20    21    22    23    24    25    26    27    28    29    30    31    32    33    34    35    36    37    38    39    40    41    42    43    44    45    46    47    48    49    50    51    52    53    54    55    56    57    58    59    60    61    62    63    64    65    66    67    68    69    70    71    72    73    74    75    76    77    78    79    80    81    82    83    84    85    86    87    88    89    90    91    92    93    94    95    96    97    98    99\n",
       "0  2950  3057  3099  2903  2837  2934  3038  3001  2956  3048  3037  3075  3120  2902  2792  3074  2805  2880  3114  2807  2881  2881  2918  2839  3014  2897  2762  2997  3019  2865  3138  2941  2908  2985  2960  2826  2843  2887  3016  2852  2908  3128  2947  2869  3086  2941  2998  2876  2962  2928  3005  2918  2783  2893  3056  3084  3044  2974  3077  2919  3116  2906  2899  2975  2897  3012  2946  3063  2878  3042  3048  3175  2933  2999  2920  2947  2948  2901  3132  2985  2798  3008  2930  2894  3076  3080  2936  2945  2948  2951  3002  2804  2776  3100  3060  3153  2842  2912  2764  2908\n",
       "1  2765  2951  2723  2851  2833  2646  2696  2661  2899  2570  2569  2707  2707  2613  2621  2685  2692  2822  2682  2767  2872  2717  2858  2594  2636  2885  2470  2541  2661  2607  2525  2884  2869  2924  2678  2846  2598  2890  2627  2802  2641  2655  2704  2657  2683  2592  2685  2803  2685  2755  2548  2554  2776  2487  2628  2596  2991  2604  2752  2689  2753  2659  2633  2765  2852  2622  2860  2661  2848  2657  2564  2720  2630  2588  2888  2596  2719  2491  2745  2636  2683  2590  2606  2888  2780  2659  2856  2877  2640  2539  2572  2796  2772  2702  2686  2569  2789  2855  2572  2719\n",
       "2  3365  3344  3360  3372  3305  3395  3376  3342  3360  3292  3341  3313  3339  3405  3251  3332  3307  3416  3396  3231  3391  3302  3312  3339  3397  3334  3216  3359  3306  3427  3398  3403  3397  3335  3323  3352  3334  3323  3312  3246  3388  3388  3408  3318  3367  3328  3324  3283  3451  3311  3318  3407  3278  3304  3347  3341  3322  3439  3235  3323  3376  3288  3312  3424  3352  3245  3367  3370  3323  3351  3385  3430  3410  3353  3334  3335  3344  3313  3449  3264  3280  3346  3351  3335  3308  3402  3348  3376  3324  3337  3386  3330  3346  3218  3342  3313  3326  3278  3315  3314\n",
       "3  1282  1714  2005  1276  1163  1285  1883  1964  1344  1331  1558  1557  1322  1251  1529  1190  1303  2009  1273  1676  1622  1301  1586  1371  1833  1543  1312  1826  1718  1946  1645  1576  1309  1892  1347  1632  1189  1493  1272  1567  1363  2124  1368  1613  1319  1473  1278  1294  1520  1321  1548  1274  1636  1248  1344  1922  1672  2023  1337  2038  1603  1248  1442  1471  1729  1124  1612  1834  1655  1468  1829  1361  1372  1383  1475  1529  1345  1610  1586  1348  1324  1245  2015  1872  1357  1338  1538  1395  1286  1355  1795  1312  1279  1311  1339  1567  1292  1329  1585  1534\n",
       "4   172   482   540   745   414   221   605   135   709   674   568   409   467   539   301   522   655   543   685   411   566   444   575   216   463   432   105   127   457   542   500   545   791   471   235   413   495   448   309   525   434   333   463   546   475   382   593   581   443   599   561   569   463   694   193   465   564   125   338   531   425   671   571   541   466   569   503   602   459   749   546   565   487   717   459   459   680   526   413   422   478   166   681   666   717   558   415   776   113   756   491   424   588   354   150   448   555   625   581   495"
      ]
     },
     "execution_count": 84,
     "metadata": {},
     "output_type": "execute_result"
    }
   ],
   "source": [
    "df_leaf.head()"
   ]
  },
  {
   "cell_type": "code",
   "execution_count": 85,
   "id": "a05d7090",
   "metadata": {},
   "outputs": [
    {
     "data": {
      "image/png": "[encoded data removed]",
      "text/plain": [
       "<Figure size 864x360 with 1 Axes>"
      ]
     },
     "metadata": {},
     "output_type": "display_data"
    }
   ],
   "source": [
    "reducer = umap.UMAP( random_state = 42 )\n",
    "embedding = reducer.fit_transform( df_leaf )\n",
    "\n",
    "# embedding\n",
    "df_pca['embedding_x'] = embedding[:,0]\n",
    "df_pca['embedding_y'] = embedding[:,1]\n",
    "\n",
    "# plot UMAP\n",
    "figure(figsize=(12,5))\n",
    "sns.scatterplot( x = 'embedding_x', y = 'embedding_y', data=df_pca );"
   ]
  },
  {
   "cell_type": "markdown",
   "id": "45f154f7",
   "metadata": {},
   "source": [
    "## 5.0. Data Preparation"
   ]
  },
  {
   "cell_type": "markdown",
   "id": "ae84aadd",
   "metadata": {},
   "source": [
    "## 6.0. Feature Selection"
   ]
  },
  {
   "cell_type": "markdown",
   "id": "1b2b554d",
   "metadata": {},
   "source": [
    "## 7.0. Hyperparameter Fine-Tuning"
   ]
  },
  {
   "cell_type": "code",
   "execution_count": null,
   "id": "cf8db9c6",
   "metadata": {},
   "outputs": [],
   "source": [
    "df7 = df5.copy()\n",
    "df7.head()"
   ]
  },
  {
   "cell_type": "code",
   "execution_count": null,
   "id": "d4d568c8",
   "metadata": {},
   "outputs": [],
   "source": [
    "X = df7.drop('customer_id', axis=1)"
   ]
  },
  {
   "cell_type": "code",
   "execution_count": null,
   "id": "3f9457e9",
   "metadata": {},
   "outputs": [],
   "source": [
    "clusters = [2, 3, 4, 5, 6]"
   ]
  },
  {
   "cell_type": "markdown",
   "id": "ce3ca807",
   "metadata": {},
   "source": [
    "## 7.1. Within-Cluster Sum of Square (WSS)"
   ]
  },
  {
   "cell_type": "code",
   "execution_count": null,
   "id": "c17fa7c7",
   "metadata": {},
   "outputs": [],
   "source": [
    "wss = []\n",
    "for k in clusters:\n",
    "    \n",
    "    #model definition\n",
    "    kmeans = c.KMeans( init='random', n_clusters=k, n_init=10, max_iter=300, random_state=42  ) #init random significa que o modelo vai começar aleatoriamente procurando grupos com um centroide específico, deixamos n_init = 10 pra ele fazer 10x e não pegar o primeiro que pode não representar um bom cluster\n",
    "    \n",
    "    #model training\n",
    "    kmeans.fit( X )\n",
    "    \n",
    "    #validation\n",
    "    wss.append(kmeans.inertia_)\n",
    "    \n",
    "# plot wss - Elbow Method\n",
    "figure(figsize=(10,6))\n",
    "plt.plot( clusters, wss, linestyle='--', marker='o' );\n",
    "plt.xlabel( 'K' );\n",
    "plt.ylabel( 'Within-Cluster Sum of Square' );\n",
    "plt.title( 'WSS vs K' );"
   ]
  },
  {
   "cell_type": "code",
   "execution_count": null,
   "id": "7a04bfa5",
   "metadata": {},
   "outputs": [],
   "source": [
    "# outra forma de encontrar o k pelo WSS\n",
    "figure(figsize=(10,6))\n",
    "kmeans = KElbowVisualizer( c.KMeans(), k = clusters, timings=False )\n",
    "kmeans.fit( X )\n",
    "kmeans.show()"
   ]
  },
  {
   "cell_type": "markdown",
   "id": "29c6de67",
   "metadata": {},
   "source": [
    "## 7.2. Silhouette Score"
   ]
  },
  {
   "cell_type": "code",
   "execution_count": null,
   "id": "b95b68f6",
   "metadata": {},
   "outputs": [],
   "source": [
    "figure(figsize=(10,6))\n",
    "kmeans = KElbowVisualizer( c.KMeans(), k = clusters, metric='silhouette', timings=False )\n",
    "kmeans.fit( X )\n",
    "kmeans.show()\n",
    "\n",
    "# quanto mais próximo a silhouette de 1, melhor. Significa que os clusters estão distantes entre si"
   ]
  },
  {
   "cell_type": "markdown",
   "id": "fb6ebf5e",
   "metadata": {},
   "source": [
    "## 7.3. Silhouette Analysis"
   ]
  },
  {
   "cell_type": "code",
   "execution_count": null,
   "id": "41f5a486",
   "metadata": {},
   "outputs": [],
   "source": [
    "fig, ax = plt.subplots( 3, 2, figsize=(25, 20) )\n",
    "\n",
    "for k in clusters:\n",
    "    km = c.KMeans( n_clusters=k, init='random', n_init=10, max_iter=100, random_state=42 )\n",
    "    q, mod = divmod(k, 2) # q é linha e mod é a coluna; 2 é o mín entre nossos valores (moda é o resto) k (p/ k=2) divido por 2 dá 1 e o resto é zero [1][0]; k (p/ k=3) dividido por 2 dá 1 e o resto 1 [1][1]\n",
    "    visualizer = SilhouetteVisualizer( km, color='yellowbrick', ax=ax[q-1][mod] )\n",
    "    visualizer.fit( X )\n",
    "    visualizer.finalize()"
   ]
  },
  {
   "cell_type": "markdown",
   "id": "490d4dcf",
   "metadata": {},
   "source": [
    "## 8.0. Model Training"
   ]
  },
  {
   "cell_type": "markdown",
   "id": "e7bbebff",
   "metadata": {},
   "source": [
    "### 8.1. K-Means"
   ]
  },
  {
   "cell_type": "code",
   "execution_count": null,
   "id": "dd023e5d",
   "metadata": {},
   "outputs": [],
   "source": [
    "# model definition\n",
    "k = 2\n",
    "kmeans = c.KMeans(init = 'random', n_clusters=k, n_init=10, max_iter=300, random_state=42)\n",
    "\n",
    "# model training\n",
    "kmeans.fit(X)\n",
    "\n",
    "# clustering\n",
    "#labels = kmeans.predict(X)\n",
    "labels = kmeans.labels_"
   ]
  },
  {
   "cell_type": "markdown",
   "id": "c9c03437",
   "metadata": {},
   "source": [
    "### 8.2. Cluster Validation"
   ]
  },
  {
   "cell_type": "code",
   "execution_count": null,
   "id": "c3b2324d",
   "metadata": {},
   "outputs": [],
   "source": [
    "# WSS Within-Cluster Sum of Square\n",
    "print(f'WSS: {kmeans.inertia_}')\n",
    "\n",
    "# SS Silhouette Score\n",
    "print('SS: {}'.format( m.silhouette_score(X, labels, metric='euclidean') ))"
   ]
  },
  {
   "cell_type": "markdown",
   "id": "54ac3061",
   "metadata": {},
   "source": [
    "## 9.0. Cluster Analysis"
   ]
  },
  {
   "cell_type": "code",
   "execution_count": null,
   "id": "024ad29b",
   "metadata": {},
   "outputs": [],
   "source": [
    "df9 = df7.copy()"
   ]
  },
  {
   "cell_type": "code",
   "execution_count": null,
   "id": "0cf498ba",
   "metadata": {},
   "outputs": [],
   "source": [
    "df9['cluster'] = labels\n",
    "df9.head()"
   ]
  },
  {
   "cell_type": "markdown",
   "id": "26bf3887",
   "metadata": {},
   "source": [
    "### 9.1. Visualization Inspection"
   ]
  },
  {
   "cell_type": "code",
   "execution_count": null,
   "id": "048b9b8c",
   "metadata": {},
   "outputs": [],
   "source": [
    "# é possível apenas com 3 features\n",
    "\n",
    "#fig = px.scatter_3d(df9, x='recency_in_days', y='frequency', z='gross_revenue', color='cluster')\n",
    "#fig.show()"
   ]
  },
  {
   "cell_type": "code",
   "execution_count": null,
   "id": "0584877a",
   "metadata": {},
   "outputs": [],
   "source": [
    "k = 2\n",
    "figure(figsize=(15,6))\n",
    "\n",
    "km = c.KMeans( n_clusters=k, init='random', n_init=10, max_iter=100, random_state=42 )\n",
    "visualizer = SilhouetteVisualizer( km, color='yellowbrick' )\n",
    "visualizer.fit( X )\n",
    "visualizer.finalize()"
   ]
  },
  {
   "cell_type": "markdown",
   "id": "1a14ed76",
   "metadata": {},
   "source": [
    "### 9.2. 2d plot"
   ]
  },
  {
   "cell_type": "code",
   "execution_count": null,
   "id": "578b4ccf",
   "metadata": {},
   "outputs": [],
   "source": [
    "df9.head()"
   ]
  },
  {
   "cell_type": "code",
   "execution_count": null,
   "id": "afb88564",
   "metadata": {},
   "outputs": [],
   "source": [
    "df_viz = df9.drop('customer_id', axis=1)\n",
    "sns.pairplot(df_viz, hue='cluster')"
   ]
  },
  {
   "cell_type": "markdown",
   "id": "296a17f7",
   "metadata": {},
   "source": [
    "### 9.3. Cluster Profile"
   ]
  },
  {
   "cell_type": "code",
   "execution_count": null,
   "id": "219313da",
   "metadata": {},
   "outputs": [],
   "source": [
    "# Number of clusters\n",
    "df_cluster = df9[['customer_id', 'cluster']].groupby('cluster').count().reset_index()\n",
    "df_cluster['perc_customer_%'] = round((df_cluster['customer_id'] / df_cluster['customer_id'].sum())*100,2)\n",
    "\n",
    "# Avg gross revenue\n",
    "df_avg_gross_revenue = df9[['gross_revenue', 'cluster']].groupby('cluster').mean().reset_index() \n",
    "df_cluster = df_cluster.merge(df_avg_gross_revenue, how='inner', on='cluster')\n",
    "\n",
    "# Avg recency day\n",
    "df_avg_recency_day = df9[['recency_in_days', 'cluster']].groupby('cluster').mean().reset_index()\n",
    "df_cluster = df_cluster.merge(df_avg_recency_day, how='inner', on='cluster')\n",
    "\n",
    "# Avg invoice_no\n",
    "df_avg_invoice_no = df9[['frequency', 'cluster']].groupby('cluster').mean().reset_index()\n",
    "df_cluster = df_cluster.merge(df_avg_invoice_no, how='inner', on='cluster')\n",
    "\n",
    "# Avg ticket\n",
    "df_avg_ticket = df9[['avg_ticket', 'cluster']].groupby('cluster').mean().reset_index()\n",
    "df_cluster = df_cluster.merge(df_avg_ticket, how='inner', on='cluster')\n",
    "\n",
    "df_cluster"
   ]
  },
  {
   "cell_type": "markdown",
   "id": "31d0042f",
   "metadata": {},
   "source": [
    "**Cluster 0**\n",
    "1. x% na base\n",
    "2. Clientes já gastaram em média $ x\n",
    "3. Clientes ficam em média x meses sem comprar\n",
    "4. Já compraram x produtos\n",
    "5. Tem ticket médio de x\n",
    "\n",
    "**Cluster 1 (Candidatos ao Insider)**\n",
    "1. x\n",
    "2. x\n",
    "3. x\n",
    "4. x\n",
    "\n",
    "**Cluster 2**\n",
    "1. x\n",
    "2. x\n",
    "3. x\n",
    "4. x"
   ]
  },
  {
   "cell_type": "markdown",
   "id": "3cfc101a",
   "metadata": {},
   "source": [
    "## 10.0. Deploy"
   ]
  }
 ],
 "metadata": {
  "kernelspec": {
   "display_name": "Python 3 (ipykernel)",
   "language": "python",
   "name": "python3"
  },
  "language_info": {
   "codemirror_mode": {
    "name": "ipython",
    "version": 3
   },
   "file_extension": ".py",
   "mimetype": "text/x-python",
   "name": "python",
   "nbconvert_exporter": "python",
   "pygments_lexer": "ipython3",
   "version": "3.9.12"
  }
 },
 "nbformat": 4,
 "nbformat_minor": 5
}
